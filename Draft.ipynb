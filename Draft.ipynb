{
 "cells": [
  {
   "cell_type": "code",
   "execution_count": 28,
   "id": "99c5bc8f",
   "metadata": {},
   "outputs": [],
   "source": [
    "import pandas as pd\n",
    "import plotly.graph_objs as go\n",
    "import plotly.express as px\n",
    "import matplotlib.pyplot as plt\n",
    "import numpy as np"
   ]
  },
  {
   "cell_type": "markdown",
   "id": "e37f63a3",
   "metadata": {},
   "source": [
    "| Student name | student number | \n",
    "| --- | --- | \n",
    "| Evan Lont |  | Visualizations, setup Github  |\n",
    "| Joep Haanen |  | Visualizations |\n",
    "| Lotte te Kulve |  | Data preprocessing, visualizations |\n",
    "| Robin Kuipers |  | 14273810 |"
   ]
  },
  {
   "cell_type": "markdown",
   "id": "712f7b29",
   "metadata": {},
   "source": [
    "# Correlation between Happiness and Economic Factors\n",
    "## Introduction\n",
    "\n",
    "Our data analysis will focus on exploring the correlation between happiness and economic factors. Using the \"World Happiness Report\" dataset and relevant economic indicators such as GDP per capita, inflation rates, and consumer price index (CPI), we will investigate the relationship between subjective well-being and economic stability. By analyzing the data, we aim to determine whether countries with higher economic indicators tend to exhibit higher happiness scores. This study will contribute to our understanding of how economic factors influence individual and societal levels of happiness.\n",
    "\n",
    "#### Perspectives\n",
    "1. Consumer Price Index (CPI) and Happiness: We want to examine the impact of\n",
    "CPI on happiness. We will argue that a higher CPI, reflecting increased prices of\n",
    "goods and services, could potentially reduce individuals' satisfaction with their\n",
    "standard of living, impacting overall happiness levels.\n",
    "\n",
    "2. Inflation Rates and Happiness: We want to investigate the relationship between\n",
    "inflation rates and happiness. We will argue that high inflation rates may lead to\n",
    "increased uncertainty, economic instability, and decreased purchasing power,\n",
    "potentially negatively affecting happiness levels in a country.\n",
    "\n",
    "3. GDP per Capita and Happiness: We will explore the correlation between GDP per\n",
    "capita and happiness scores. We will argue that countries with higher GDP per\n",
    "capita may have better economic opportunities, access to resources, and quality of\n",
    "life, which could positively impact happiness levels.\n",
    "\n",
    "## Datasets and preprocessing\n",
    "We decided to use the World Happiness Dataset from WHO. For our second dataset, we wanted to use a dataset about inflation trends from (at least) ten years ago up until 2022. We found an inflation dataset from OECD data that matched our requirements. We then analysed the two datasets and came to the conclusion that we needed a more comprehensive dataset for the happiness measurement, because it only contained data for the year 2019. To make accurate analyses, the dataset has to match the time periods of the other. Also, the inflation dataset can possibly give us interesting visualisations because of the inflation trends before, during and (somewhat) after the COVID-19 pandemic. \n",
    "\n",
    "### Dataset 1: World happiness report\n",
    "**Source:** https://worldhappiness.report/ed/2020/#appendices-and-data\n",
    "\n",
    "**Number of records:** `20`\n",
    "\n",
    "****************************************Number of variables:**************************************** `10`\n",
    "\n",
    "**Description:** This dataset is from the Organization for Economic Cooperation and Development (OECD) and focuses on inflation, specifically the Consumer Price Index (CPI). The Consumer Price Index is a widely used measure of inflation, representing the average price change over time for a basket of goods and services commonly consumed by households.\n",
    "\n",
    "The dataset likely includes information about inflation rates for various countries and regions over a specific time period. It can provide insights into how prices of goods and services have changed over time, serving as an important indicator of economic stability and the purchasing power of consumers.\n",
    "\n",
    "By analyzing this dataset, we can gain a deeper understanding of inflation trends across different economies and regions. We could also compare the inflation rates of different countries to assess their economic performance, identify periods of high or low inflation, and study the potential impacts on various sectors such as investment, wages, and consumer spending.\n",
    "\n",
    "| Variable | Datatype | Measurement scale |\n",
    "| --- | --- | --- |\n",
    "| country name | Categorical | Nominal |\n",
    "| Regional indicator | Categorical | Nominal |\n",
    "| Happiness score | Continuous | Interval |\n",
    "| upperwhisker | Continuous | Interval |\n",
    "| lowerwhisker | Continuous | Interval |\n",
    "| Logged GDP per capita | Continuous | Ratio |\n",
    "| Healthy life expectancy | Continuous | Interval |\n",
    "| Generosity | Continuous | Interval |\n",
    "| Perceptions of corruption | Continuous | Interval |\n",
    "| Explained by: Log GDP per capita | Continuous | Ratio |\n",
    "| Explained by: Healthy life expectancy | Continuous | Ratio |\n",
    "| Explained by: Freedom to make life choices | Continuous | Ratio |\n",
    "| Explained by: Generosity | Continuous | Ratio |\n",
    "| Explained by: Social support | Continuous | Ratio |\n",
    "| Explained by: Perceptions of corruption | Continuous | Ratio |\n",
    "| Dystopia + residual | Continuous | Interval |\n",
    "\n",
    "### Dataset 2: Inflation (CPI)\n",
    "\n",
    "**Source:** https://data.oecd.org/price/inflation-cpi.htm\n",
    "\n",
    "**Number of records:** `490`\n",
    "\n",
    "****************************************Number of variables:**************************************** `8`\n",
    "\n",
    "**Description:** The \"Inflation (CPI)\" dataset from the OECD contains information on consumer price index (CPI) and inflation rates across various countries. It provides a comprehensive view of the changes in price levels for goods and services over time, allowing for the analysis and comparison of inflation rates among different economies. The dataset includes indicators such as headline inflation, core inflation, and various sub-components of CPI. It serves as a valuable resource for understanding and monitoring inflation trends at a global level.\n",
    "\n",
    "| Variable | Datatype | Measurement scale |\n",
    "| --- | --- | --- |\n",
    "| Location | Categorical | Nominal |\n",
    "| Regional indicator | Categorical | Nominal |\n",
    "| Subject | categorical | Nominal |\n",
    "| Measure | categorical | Interval |\n",
    "| Frequency | Continuous | Interval |\n",
    "| Time | Continuous | Interval |\n",
    "| Value | Continuous | Interval |\n",
    "| Flag code | Categorical | Nominal |\n",
    "\n",
    "\n",
    "## Data selection\n",
    "\n",
    "for each variable we asked ourselves the following questions:\n",
    "\n",
    "- What are the variables in the data?\n",
    "- Do we need all the data points and variables?\n",
    "- Are there data that are out of scope?\n",
    "- Are there privacy or ethical issues in the data?\n",
    "- Is it practical to process the variable that we want?\n",
    "\n",
    "To prevent our dataset to be too large, we decided to analyse the data for the years 2020 and 2022, because both datasets' values varied a lot in between these years. Another reason for the selection of only two different years is that we want to find out how much the data can differ in such a small timeframe.\n",
    "\n",
    "Based on the discussions we had, we:\n",
    "\n",
    "- We removed the following columns from the world happiness dataset:\n",
    "    - Upperwhisker\n",
    "    - Lowerwhisker\n",
    "    - Standard error of ladder score\n",
    "    - Dystopia + residual\n",
    "\n",
    "- We rearranged columns so that we can easily see which country and year we’re looking at.\n",
    "- We removed countries we didn’t need for our analysis and kept the following selection:\n",
    "\n",
    "'Switzerland', 'Netherlands', 'New Zealand', 'Canada','Saudi Arabia', \n",
    "'Chile', 'Japan', 'Portugal', 'China', 'Vietnam','Nepal', 'South Africa', 'Ukraine', 'Morocco', 'Cameroon', 'Iran','Egypt', 'India'"
   ]
  },
  {
   "cell_type": "markdown",
   "id": "006fc1cc",
   "metadata": {},
   "source": [
    "- We changed country names to abbreviations\n",
    "    Both datasets contained information per country, but the inflation dataset has abbreviations as values and the happiness dataset has the full country names. If we want to compare data for certain countries, we have to align these values to either abbreviations or full country names. We chose for abbreviations. By running the following code in a Jupyter Notebook:\n",
    "    "
   ]
  },
  {
   "cell_type": "code",
   "execution_count": 36,
   "id": "f491bd35",
   "metadata": {},
   "outputs": [],
   "source": [
    "inflation = pd.read_csv('inflation.csv')\n",
    "happiness_2020 = pd.read_csv('happiness_2020-def.csv')\n",
    "happiness_2022 = pd.read_csv('happiness_2022-def.csv')\n",
    "inflation.drop('Flag Codes', axis=1, inplace=True)\n",
    "inflation.drop('FREQUENCY', axis=1, inplace=True)"
   ]
  },
  {
   "cell_type": "code",
   "execution_count": 37,
   "id": "c0993bc2",
   "metadata": {},
   "outputs": [
    {
     "ename": "KeyError",
     "evalue": "\"['Country name', 'Dystopia + residual', 'Explained by: Log GDP per capita'] not in index\"",
     "output_type": "error",
     "traceback": [
      "\u001b[0;31m---------------------------------------------------------------------------\u001b[0m",
      "\u001b[0;31mKeyError\u001b[0m                                  Traceback (most recent call last)",
      "Cell \u001b[0;32mIn[37], line 6\u001b[0m\n\u001b[1;32m      4\u001b[0m \u001b[38;5;66;03m# Reorder the columns\u001b[39;00m\n\u001b[1;32m      5\u001b[0m happiness_2020 \u001b[38;5;241m=\u001b[39m happiness_2020[column_order]\n\u001b[0;32m----> 6\u001b[0m happiness_2022 \u001b[38;5;241m=\u001b[39m \u001b[43mhappiness_2022\u001b[49m\u001b[43m[\u001b[49m\u001b[43mcolumn_order\u001b[49m\u001b[43m]\u001b[49m\n",
      "File \u001b[0;32m~/anaconda3/lib/python3.10/site-packages/pandas/core/frame.py:3813\u001b[0m, in \u001b[0;36mDataFrame.__getitem__\u001b[0;34m(self, key)\u001b[0m\n\u001b[1;32m   3811\u001b[0m     \u001b[38;5;28;01mif\u001b[39;00m is_iterator(key):\n\u001b[1;32m   3812\u001b[0m         key \u001b[38;5;241m=\u001b[39m \u001b[38;5;28mlist\u001b[39m(key)\n\u001b[0;32m-> 3813\u001b[0m     indexer \u001b[38;5;241m=\u001b[39m \u001b[38;5;28;43mself\u001b[39;49m\u001b[38;5;241;43m.\u001b[39;49m\u001b[43mcolumns\u001b[49m\u001b[38;5;241;43m.\u001b[39;49m\u001b[43m_get_indexer_strict\u001b[49m\u001b[43m(\u001b[49m\u001b[43mkey\u001b[49m\u001b[43m,\u001b[49m\u001b[43m \u001b[49m\u001b[38;5;124;43m\"\u001b[39;49m\u001b[38;5;124;43mcolumns\u001b[39;49m\u001b[38;5;124;43m\"\u001b[39;49m\u001b[43m)\u001b[49m[\u001b[38;5;241m1\u001b[39m]\n\u001b[1;32m   3815\u001b[0m \u001b[38;5;66;03m# take() does not accept boolean indexers\u001b[39;00m\n\u001b[1;32m   3816\u001b[0m \u001b[38;5;28;01mif\u001b[39;00m \u001b[38;5;28mgetattr\u001b[39m(indexer, \u001b[38;5;124m\"\u001b[39m\u001b[38;5;124mdtype\u001b[39m\u001b[38;5;124m\"\u001b[39m, \u001b[38;5;28;01mNone\u001b[39;00m) \u001b[38;5;241m==\u001b[39m \u001b[38;5;28mbool\u001b[39m:\n",
      "File \u001b[0;32m~/anaconda3/lib/python3.10/site-packages/pandas/core/indexes/base.py:6070\u001b[0m, in \u001b[0;36mIndex._get_indexer_strict\u001b[0;34m(self, key, axis_name)\u001b[0m\n\u001b[1;32m   6067\u001b[0m \u001b[38;5;28;01melse\u001b[39;00m:\n\u001b[1;32m   6068\u001b[0m     keyarr, indexer, new_indexer \u001b[38;5;241m=\u001b[39m \u001b[38;5;28mself\u001b[39m\u001b[38;5;241m.\u001b[39m_reindex_non_unique(keyarr)\n\u001b[0;32m-> 6070\u001b[0m \u001b[38;5;28;43mself\u001b[39;49m\u001b[38;5;241;43m.\u001b[39;49m\u001b[43m_raise_if_missing\u001b[49m\u001b[43m(\u001b[49m\u001b[43mkeyarr\u001b[49m\u001b[43m,\u001b[49m\u001b[43m \u001b[49m\u001b[43mindexer\u001b[49m\u001b[43m,\u001b[49m\u001b[43m \u001b[49m\u001b[43maxis_name\u001b[49m\u001b[43m)\u001b[49m\n\u001b[1;32m   6072\u001b[0m keyarr \u001b[38;5;241m=\u001b[39m \u001b[38;5;28mself\u001b[39m\u001b[38;5;241m.\u001b[39mtake(indexer)\n\u001b[1;32m   6073\u001b[0m \u001b[38;5;28;01mif\u001b[39;00m \u001b[38;5;28misinstance\u001b[39m(key, Index):\n\u001b[1;32m   6074\u001b[0m     \u001b[38;5;66;03m# GH 42790 - Preserve name from an Index\u001b[39;00m\n",
      "File \u001b[0;32m~/anaconda3/lib/python3.10/site-packages/pandas/core/indexes/base.py:6133\u001b[0m, in \u001b[0;36mIndex._raise_if_missing\u001b[0;34m(self, key, indexer, axis_name)\u001b[0m\n\u001b[1;32m   6130\u001b[0m     \u001b[38;5;28;01mraise\u001b[39;00m \u001b[38;5;167;01mKeyError\u001b[39;00m(\u001b[38;5;124mf\u001b[39m\u001b[38;5;124m\"\u001b[39m\u001b[38;5;124mNone of [\u001b[39m\u001b[38;5;132;01m{\u001b[39;00mkey\u001b[38;5;132;01m}\u001b[39;00m\u001b[38;5;124m] are in the [\u001b[39m\u001b[38;5;132;01m{\u001b[39;00maxis_name\u001b[38;5;132;01m}\u001b[39;00m\u001b[38;5;124m]\u001b[39m\u001b[38;5;124m\"\u001b[39m)\n\u001b[1;32m   6132\u001b[0m not_found \u001b[38;5;241m=\u001b[39m \u001b[38;5;28mlist\u001b[39m(ensure_index(key)[missing_mask\u001b[38;5;241m.\u001b[39mnonzero()[\u001b[38;5;241m0\u001b[39m]]\u001b[38;5;241m.\u001b[39munique())\n\u001b[0;32m-> 6133\u001b[0m \u001b[38;5;28;01mraise\u001b[39;00m \u001b[38;5;167;01mKeyError\u001b[39;00m(\u001b[38;5;124mf\u001b[39m\u001b[38;5;124m\"\u001b[39m\u001b[38;5;132;01m{\u001b[39;00mnot_found\u001b[38;5;132;01m}\u001b[39;00m\u001b[38;5;124m not in index\u001b[39m\u001b[38;5;124m\"\u001b[39m)\n",
      "\u001b[0;31mKeyError\u001b[0m: \"['Country name', 'Dystopia + residual', 'Explained by: Log GDP per capita'] not in index\""
     ]
    }
   ],
   "source": [
    "# Specify the desired column order\n",
    "column_order = ['Country name', 'Happiness score', 'Dystopia + residual', 'Explained by: Log GDP per capita', 'Explained by: Social support', 'Explained by: Healthy life expectancy', 'Explained by: Freedom to make life choices', 'Explained by: Generosity', 'Explained by: Perceptions of corruption']\n",
    "\n",
    "# Reorder the columns\n",
    "happiness_2020 = happiness_2020[column_order]\n",
    "happiness_2022 = happiness_2022[column_order]"
   ]
  },
  {
   "cell_type": "code",
   "execution_count": 39,
   "id": "1144b848",
   "metadata": {},
   "outputs": [
    {
     "data": {
      "text/html": [
       "<div>\n",
       "<style scoped>\n",
       "    .dataframe tbody tr th:only-of-type {\n",
       "        vertical-align: middle;\n",
       "    }\n",
       "\n",
       "    .dataframe tbody tr th {\n",
       "        vertical-align: top;\n",
       "    }\n",
       "\n",
       "    .dataframe thead th {\n",
       "        text-align: right;\n",
       "    }\n",
       "</style>\n",
       "<table border=\"1\" class=\"dataframe\">\n",
       "  <thead>\n",
       "    <tr style=\"text-align: right;\">\n",
       "      <th></th>\n",
       "      <th>Country name</th>\n",
       "      <th>Happiness score</th>\n",
       "      <th>Dystopia + residual</th>\n",
       "      <th>Explained by: Log GDP per capita</th>\n",
       "      <th>Explained by: Social support</th>\n",
       "      <th>Explained by: Healthy life expectancy</th>\n",
       "      <th>Explained by: Freedom to make life choices</th>\n",
       "      <th>Explained by: Generosity</th>\n",
       "      <th>Explained by: Perceptions of corruption</th>\n",
       "    </tr>\n",
       "  </thead>\n",
       "  <tbody>\n",
       "    <tr>\n",
       "      <th>0</th>\n",
       "      <td>NaN</td>\n",
       "      <td>7.5599</td>\n",
       "      <td>2.350267</td>\n",
       "      <td>1.390774</td>\n",
       "      <td>1.472403</td>\n",
       "      <td>1.040533</td>\n",
       "      <td>0.628954</td>\n",
       "      <td>0.269056</td>\n",
       "      <td>0.407946</td>\n",
       "    </tr>\n",
       "    <tr>\n",
       "      <th>1</th>\n",
       "      <td>NaN</td>\n",
       "      <td>7.4489</td>\n",
       "      <td>2.352117</td>\n",
       "      <td>1.338946</td>\n",
       "      <td>1.463646</td>\n",
       "      <td>0.975675</td>\n",
       "      <td>0.613626</td>\n",
       "      <td>0.336318</td>\n",
       "      <td>0.368570</td>\n",
       "    </tr>\n",
       "    <tr>\n",
       "      <th>2</th>\n",
       "      <td>NaN</td>\n",
       "      <td>7.2996</td>\n",
       "      <td>2.128108</td>\n",
       "      <td>1.242318</td>\n",
       "      <td>1.487218</td>\n",
       "      <td>1.008138</td>\n",
       "      <td>0.646790</td>\n",
       "      <td>0.325726</td>\n",
       "      <td>0.461268</td>\n",
       "    </tr>\n",
       "    <tr>\n",
       "      <th>3</th>\n",
       "      <td>NaN</td>\n",
       "      <td>7.2321</td>\n",
       "      <td>2.195269</td>\n",
       "      <td>1.301648</td>\n",
       "      <td>1.435392</td>\n",
       "      <td>1.022502</td>\n",
       "      <td>0.644028</td>\n",
       "      <td>0.281529</td>\n",
       "      <td>0.351702</td>\n",
       "    </tr>\n",
       "    <tr>\n",
       "      <th>4</th>\n",
       "      <td>NaN</td>\n",
       "      <td>6.4065</td>\n",
       "      <td>2.203119</td>\n",
       "      <td>1.334329</td>\n",
       "      <td>1.309950</td>\n",
       "      <td>0.759818</td>\n",
       "      <td>0.548477</td>\n",
       "      <td>0.087441</td>\n",
       "      <td>0.163322</td>\n",
       "    </tr>\n",
       "  </tbody>\n",
       "</table>\n",
       "</div>"
      ],
      "text/plain": [
       "  Country name  Happiness score  Dystopia + residual  \\\n",
       "0          NaN           7.5599             2.350267   \n",
       "1          NaN           7.4489             2.352117   \n",
       "2          NaN           7.2996             2.128108   \n",
       "3          NaN           7.2321             2.195269   \n",
       "4          NaN           6.4065             2.203119   \n",
       "\n",
       "   Explained by: Log GDP per capita  Explained by: Social support  \\\n",
       "0                          1.390774                      1.472403   \n",
       "1                          1.338946                      1.463646   \n",
       "2                          1.242318                      1.487218   \n",
       "3                          1.301648                      1.435392   \n",
       "4                          1.334329                      1.309950   \n",
       "\n",
       "   Explained by: Healthy life expectancy  \\\n",
       "0                               1.040533   \n",
       "1                               0.975675   \n",
       "2                               1.008138   \n",
       "3                               1.022502   \n",
       "4                               0.759818   \n",
       "\n",
       "   Explained by: Freedom to make life choices  Explained by: Generosity  \\\n",
       "0                                    0.628954                  0.269056   \n",
       "1                                    0.613626                  0.336318   \n",
       "2                                    0.646790                  0.325726   \n",
       "3                                    0.644028                  0.281529   \n",
       "4                                    0.548477                  0.087441   \n",
       "\n",
       "   Explained by: Perceptions of corruption  \n",
       "0                                 0.407946  \n",
       "1                                 0.368570  \n",
       "2                                 0.461268  \n",
       "3                                 0.351702  \n",
       "4                                 0.163322  "
      ]
     },
     "execution_count": 39,
     "metadata": {},
     "output_type": "execute_result"
    }
   ],
   "source": [
    "# list all unique country names\n",
    "unique_countries = pd.unique(happiness_2020['Country name'])\n",
    "\n",
    "# list all unique abbreviations\n",
    "unique_abbr = pd.unique(inflation['LOCATION'])\n",
    "\n",
    "# map all unique country names in a dictionary with abbreviations as values\n",
    "country_mapping = {\n",
    "    \"Switzerland\": \"CHE\",\n",
    "    \"Netherlands\": \"NLD\",\n",
    "    \"New Zealand\": \"NZL\",\n",
    "    \"Canada\": \"CAN\",\n",
    "    \"Saudi Arabia\": \"SAU\",\n",
    "    \"Chile\": \"CHL\",\n",
    "    \"Japan\": \"JPN\",\n",
    "    \"Portugal\": \"PRT\",\n",
    "    \"China\": \"CHN\",\n",
    "    \"South Africa\": \"ZAF\",\n",
    "    \"India\": \"IND\"\n",
    "}\n",
    "\n",
    "# map the dictionary to the values of 'country name' in the happiness dataset\n",
    "happiness_2020['Country name'] = happiness_2020['Country name'].map(country_mapping)\n",
    "happiness_2020.head()\n",
    "\n",
    "# export to csv\n",
    "#happiness_2020.to_csv('happiness_2020.csv', index=False)"
   ]
  },
  {
   "cell_type": "code",
   "execution_count": 40,
   "id": "25e98c0b",
   "metadata": {
    "scrolled": true
   },
   "outputs": [
    {
     "data": {
      "text/html": [
       "<div>\n",
       "<style scoped>\n",
       "    .dataframe tbody tr th:only-of-type {\n",
       "        vertical-align: middle;\n",
       "    }\n",
       "\n",
       "    .dataframe tbody tr th {\n",
       "        vertical-align: top;\n",
       "    }\n",
       "\n",
       "    .dataframe thead th {\n",
       "        text-align: right;\n",
       "    }\n",
       "</style>\n",
       "<table border=\"1\" class=\"dataframe\">\n",
       "  <thead>\n",
       "    <tr style=\"text-align: right;\">\n",
       "      <th></th>\n",
       "      <th>LOCATION</th>\n",
       "      <th>INDICATOR</th>\n",
       "      <th>SUBJECT</th>\n",
       "      <th>MEASURE</th>\n",
       "      <th>TIME</th>\n",
       "      <th>Value</th>\n",
       "    </tr>\n",
       "  </thead>\n",
       "  <tbody>\n",
       "    <tr>\n",
       "      <th>0</th>\n",
       "      <td>AUS</td>\n",
       "      <td>CPI</td>\n",
       "      <td>FOOD</td>\n",
       "      <td>AGRWTH</td>\n",
       "      <td>2018</td>\n",
       "      <td>0.670376</td>\n",
       "    </tr>\n",
       "    <tr>\n",
       "      <th>1</th>\n",
       "      <td>AUS</td>\n",
       "      <td>CPI</td>\n",
       "      <td>FOOD</td>\n",
       "      <td>AGRWTH</td>\n",
       "      <td>2019</td>\n",
       "      <td>4.482894</td>\n",
       "    </tr>\n",
       "    <tr>\n",
       "      <th>2</th>\n",
       "      <td>AUS</td>\n",
       "      <td>CPI</td>\n",
       "      <td>FOOD</td>\n",
       "      <td>AGRWTH</td>\n",
       "      <td>2020</td>\n",
       "      <td>9.320118</td>\n",
       "    </tr>\n",
       "    <tr>\n",
       "      <th>3</th>\n",
       "      <td>AUS</td>\n",
       "      <td>CPI</td>\n",
       "      <td>FOOD</td>\n",
       "      <td>AGRWTH</td>\n",
       "      <td>2021</td>\n",
       "      <td>7.909739</td>\n",
       "    </tr>\n",
       "    <tr>\n",
       "      <th>4</th>\n",
       "      <td>AUS</td>\n",
       "      <td>CPI</td>\n",
       "      <td>FOOD</td>\n",
       "      <td>AGRWTH</td>\n",
       "      <td>2022</td>\n",
       "      <td>8.166700</td>\n",
       "    </tr>\n",
       "  </tbody>\n",
       "</table>\n",
       "</div>"
      ],
      "text/plain": [
       "  LOCATION INDICATOR SUBJECT MEASURE  TIME     Value\n",
       "0      AUS       CPI    FOOD  AGRWTH  2018  0.670376\n",
       "1      AUS       CPI    FOOD  AGRWTH  2019  4.482894\n",
       "2      AUS       CPI    FOOD  AGRWTH  2020  9.320118\n",
       "3      AUS       CPI    FOOD  AGRWTH  2021  7.909739\n",
       "4      AUS       CPI    FOOD  AGRWTH  2022  8.166700"
      ]
     },
     "execution_count": 40,
     "metadata": {},
     "output_type": "execute_result"
    }
   ],
   "source": [
    "pd.DataFrame.head(inflation, n=5)"
   ]
  },
  {
   "cell_type": "markdown",
   "id": "5b394541",
   "metadata": {},
   "source": [
    "## Reflection\n",
    "\n",
    "To be made → we’re waiting for feedback"
   ]
  },
  {
   "cell_type": "markdown",
   "id": "fe436911",
   "metadata": {},
   "source": [
    "## Work distribution\n",
    "\n",
    "| Who? | Role | Tasks |\n",
    "| --- | --- | --- |\n",
    "| Evan |  | Visualizations, setup Github  |\n",
    "| Joep |  | Visualizations |\n",
    "| Lotte |  | Data preprocessing, visualizations |\n",
    "| Robin |  | Data preprocessing, documentation |"
   ]
  },
  {
   "cell_type": "markdown",
   "id": "41f989c5",
   "metadata": {},
   "source": [
    "## Visualizations"
   ]
  },
  {
   "cell_type": "code",
   "execution_count": 41,
   "id": "3e49faa2",
   "metadata": {},
   "outputs": [],
   "source": [
    "inflation2020 = inflation[inflation['TIME'] == 2020]\n",
    "inflation2022 = inflation[inflation['TIME'] == 2022]"
   ]
  },
  {
   "cell_type": "code",
   "execution_count": 42,
   "id": "5f154cf0",
   "metadata": {},
   "outputs": [
    {
     "data": {
      "text/html": [
       "<div>\n",
       "<style scoped>\n",
       "    .dataframe tbody tr th:only-of-type {\n",
       "        vertical-align: middle;\n",
       "    }\n",
       "\n",
       "    .dataframe tbody tr th {\n",
       "        vertical-align: top;\n",
       "    }\n",
       "\n",
       "    .dataframe thead th {\n",
       "        text-align: right;\n",
       "    }\n",
       "</style>\n",
       "<table border=\"1\" class=\"dataframe\">\n",
       "  <thead>\n",
       "    <tr style=\"text-align: right;\">\n",
       "      <th></th>\n",
       "      <th>Country name</th>\n",
       "      <th>Happiness score</th>\n",
       "      <th>Dystopia + residual</th>\n",
       "      <th>Explained by: Log GDP per capita</th>\n",
       "      <th>Explained by: Social support</th>\n",
       "      <th>Explained by: Healthy life expectancy</th>\n",
       "      <th>Explained by: Freedom to make life choices</th>\n",
       "      <th>Explained by: Generosity</th>\n",
       "      <th>Explained by: Perceptions of corruption</th>\n",
       "    </tr>\n",
       "  </thead>\n",
       "  <tbody>\n",
       "    <tr>\n",
       "      <th>0</th>\n",
       "      <td>NaN</td>\n",
       "      <td>7.5599</td>\n",
       "      <td>2.350267</td>\n",
       "      <td>1.390774</td>\n",
       "      <td>1.472403</td>\n",
       "      <td>1.040533</td>\n",
       "      <td>0.628954</td>\n",
       "      <td>0.269056</td>\n",
       "      <td>0.407946</td>\n",
       "    </tr>\n",
       "    <tr>\n",
       "      <th>1</th>\n",
       "      <td>NaN</td>\n",
       "      <td>7.4489</td>\n",
       "      <td>2.352117</td>\n",
       "      <td>1.338946</td>\n",
       "      <td>1.463646</td>\n",
       "      <td>0.975675</td>\n",
       "      <td>0.613626</td>\n",
       "      <td>0.336318</td>\n",
       "      <td>0.368570</td>\n",
       "    </tr>\n",
       "    <tr>\n",
       "      <th>2</th>\n",
       "      <td>NaN</td>\n",
       "      <td>7.2996</td>\n",
       "      <td>2.128108</td>\n",
       "      <td>1.242318</td>\n",
       "      <td>1.487218</td>\n",
       "      <td>1.008138</td>\n",
       "      <td>0.646790</td>\n",
       "      <td>0.325726</td>\n",
       "      <td>0.461268</td>\n",
       "    </tr>\n",
       "    <tr>\n",
       "      <th>3</th>\n",
       "      <td>NaN</td>\n",
       "      <td>7.2321</td>\n",
       "      <td>2.195269</td>\n",
       "      <td>1.301648</td>\n",
       "      <td>1.435392</td>\n",
       "      <td>1.022502</td>\n",
       "      <td>0.644028</td>\n",
       "      <td>0.281529</td>\n",
       "      <td>0.351702</td>\n",
       "    </tr>\n",
       "    <tr>\n",
       "      <th>4</th>\n",
       "      <td>NaN</td>\n",
       "      <td>6.4065</td>\n",
       "      <td>2.203119</td>\n",
       "      <td>1.334329</td>\n",
       "      <td>1.309950</td>\n",
       "      <td>0.759818</td>\n",
       "      <td>0.548477</td>\n",
       "      <td>0.087441</td>\n",
       "      <td>0.163322</td>\n",
       "    </tr>\n",
       "    <tr>\n",
       "      <th>5</th>\n",
       "      <td>NaN</td>\n",
       "      <td>6.2285</td>\n",
       "      <td>2.283013</td>\n",
       "      <td>1.096992</td>\n",
       "      <td>1.323287</td>\n",
       "      <td>0.889261</td>\n",
       "      <td>0.417482</td>\n",
       "      <td>0.155579</td>\n",
       "      <td>0.062849</td>\n",
       "    </tr>\n",
       "    <tr>\n",
       "      <th>6</th>\n",
       "      <td>NaN</td>\n",
       "      <td>5.9109</td>\n",
       "      <td>1.752559</td>\n",
       "      <td>1.168801</td>\n",
       "      <td>1.339530</td>\n",
       "      <td>0.979315</td>\n",
       "      <td>0.589895</td>\n",
       "      <td>0.053037</td>\n",
       "      <td>0.027733</td>\n",
       "    </tr>\n",
       "    <tr>\n",
       "      <th>7</th>\n",
       "      <td>NaN</td>\n",
       "      <td>5.1239</td>\n",
       "      <td>1.336182</td>\n",
       "      <td>0.990533</td>\n",
       "      <td>1.132081</td>\n",
       "      <td>0.867249</td>\n",
       "      <td>0.601605</td>\n",
       "      <td>0.079021</td>\n",
       "      <td>0.117256</td>\n",
       "    </tr>\n",
       "    <tr>\n",
       "      <th>8</th>\n",
       "      <td>NaN</td>\n",
       "      <td>4.8141</td>\n",
       "      <td>1.625117</td>\n",
       "      <td>0.902140</td>\n",
       "      <td>1.259086</td>\n",
       "      <td>0.407034</td>\n",
       "      <td>0.434782</td>\n",
       "      <td>0.126407</td>\n",
       "      <td>0.059502</td>\n",
       "    </tr>\n",
       "    <tr>\n",
       "      <th>9</th>\n",
       "      <td>NaN</td>\n",
       "      <td>3.5733</td>\n",
       "      <td>0.734131</td>\n",
       "      <td>0.730576</td>\n",
       "      <td>0.644199</td>\n",
       "      <td>0.540570</td>\n",
       "      <td>0.581142</td>\n",
       "      <td>0.237072</td>\n",
       "      <td>0.105588</td>\n",
       "    </tr>\n",
       "  </tbody>\n",
       "</table>\n",
       "</div>"
      ],
      "text/plain": [
       "  Country name  Happiness score  Dystopia + residual  \\\n",
       "0          NaN           7.5599             2.350267   \n",
       "1          NaN           7.4489             2.352117   \n",
       "2          NaN           7.2996             2.128108   \n",
       "3          NaN           7.2321             2.195269   \n",
       "4          NaN           6.4065             2.203119   \n",
       "5          NaN           6.2285             2.283013   \n",
       "6          NaN           5.9109             1.752559   \n",
       "7          NaN           5.1239             1.336182   \n",
       "8          NaN           4.8141             1.625117   \n",
       "9          NaN           3.5733             0.734131   \n",
       "\n",
       "   Explained by: Log GDP per capita  Explained by: Social support  \\\n",
       "0                          1.390774                      1.472403   \n",
       "1                          1.338946                      1.463646   \n",
       "2                          1.242318                      1.487218   \n",
       "3                          1.301648                      1.435392   \n",
       "4                          1.334329                      1.309950   \n",
       "5                          1.096992                      1.323287   \n",
       "6                          1.168801                      1.339530   \n",
       "7                          0.990533                      1.132081   \n",
       "8                          0.902140                      1.259086   \n",
       "9                          0.730576                      0.644199   \n",
       "\n",
       "   Explained by: Healthy life expectancy  \\\n",
       "0                               1.040533   \n",
       "1                               0.975675   \n",
       "2                               1.008138   \n",
       "3                               1.022502   \n",
       "4                               0.759818   \n",
       "5                               0.889261   \n",
       "6                               0.979315   \n",
       "7                               0.867249   \n",
       "8                               0.407034   \n",
       "9                               0.540570   \n",
       "\n",
       "   Explained by: Freedom to make life choices  Explained by: Generosity  \\\n",
       "0                                    0.628954                  0.269056   \n",
       "1                                    0.613626                  0.336318   \n",
       "2                                    0.646790                  0.325726   \n",
       "3                                    0.644028                  0.281529   \n",
       "4                                    0.548477                  0.087441   \n",
       "5                                    0.417482                  0.155579   \n",
       "6                                    0.589895                  0.053037   \n",
       "7                                    0.601605                  0.079021   \n",
       "8                                    0.434782                  0.126407   \n",
       "9                                    0.581142                  0.237072   \n",
       "\n",
       "   Explained by: Perceptions of corruption  \n",
       "0                                 0.407946  \n",
       "1                                 0.368570  \n",
       "2                                 0.461268  \n",
       "3                                 0.351702  \n",
       "4                                 0.163322  \n",
       "5                                 0.062849  \n",
       "6                                 0.027733  \n",
       "7                                 0.117256  \n",
       "8                                 0.059502  \n",
       "9                                 0.105588  "
      ]
     },
     "execution_count": 42,
     "metadata": {},
     "output_type": "execute_result"
    }
   ],
   "source": [
    "pd.DataFrame.head(happiness_2020, n=10)"
   ]
  },
  {
   "cell_type": "code",
   "execution_count": 43,
   "id": "fa91cef3",
   "metadata": {},
   "outputs": [
    {
     "data": {
      "text/html": [
       "<div>\n",
       "<style scoped>\n",
       "    .dataframe tbody tr th:only-of-type {\n",
       "        vertical-align: middle;\n",
       "    }\n",
       "\n",
       "    .dataframe tbody tr th {\n",
       "        vertical-align: top;\n",
       "    }\n",
       "\n",
       "    .dataframe thead th {\n",
       "        text-align: right;\n",
       "    }\n",
       "</style>\n",
       "<table border=\"1\" class=\"dataframe\">\n",
       "  <thead>\n",
       "    <tr style=\"text-align: right;\">\n",
       "      <th></th>\n",
       "      <th>Unnamed: 0</th>\n",
       "      <th>Country</th>\n",
       "      <th>Happiness score</th>\n",
       "      <th>Dystopia (1.83) + residual</th>\n",
       "      <th>Explained by: GDP per capita</th>\n",
       "      <th>Explained by: Social support</th>\n",
       "      <th>Explained by: Healthy life expectancy</th>\n",
       "      <th>Explained by: Freedom to make life choices</th>\n",
       "      <th>Explained by: Generosity</th>\n",
       "      <th>Explained by: Perceptions of corruption</th>\n",
       "    </tr>\n",
       "  </thead>\n",
       "  <tbody>\n",
       "    <tr>\n",
       "      <th>0</th>\n",
       "      <td>3</td>\n",
       "      <td>CHE</td>\n",
       "      <td>7.512</td>\n",
       "      <td>2.153</td>\n",
       "      <td>2.026</td>\n",
       "      <td>1.226</td>\n",
       "      <td>0.822</td>\n",
       "      <td>0.677</td>\n",
       "      <td>0.147</td>\n",
       "      <td>0.461</td>\n",
       "    </tr>\n",
       "    <tr>\n",
       "      <th>1</th>\n",
       "      <td>4</td>\n",
       "      <td>NLD</td>\n",
       "      <td>7.415</td>\n",
       "      <td>2.137</td>\n",
       "      <td>1.945</td>\n",
       "      <td>1.206</td>\n",
       "      <td>0.787</td>\n",
       "      <td>0.651</td>\n",
       "      <td>0.271</td>\n",
       "      <td>0.419</td>\n",
       "    </tr>\n",
       "    <tr>\n",
       "      <th>2</th>\n",
       "      <td>9</td>\n",
       "      <td>NZL</td>\n",
       "      <td>7.200</td>\n",
       "      <td>1.954</td>\n",
       "      <td>1.852</td>\n",
       "      <td>1.235</td>\n",
       "      <td>0.752</td>\n",
       "      <td>0.680</td>\n",
       "      <td>0.245</td>\n",
       "      <td>0.483</td>\n",
       "    </tr>\n",
       "    <tr>\n",
       "      <th>3</th>\n",
       "      <td>14</td>\n",
       "      <td>CAN</td>\n",
       "      <td>7.025</td>\n",
       "      <td>1.924</td>\n",
       "      <td>1.886</td>\n",
       "      <td>1.188</td>\n",
       "      <td>0.783</td>\n",
       "      <td>0.659</td>\n",
       "      <td>0.217</td>\n",
       "      <td>0.368</td>\n",
       "    </tr>\n",
       "    <tr>\n",
       "      <th>4</th>\n",
       "      <td>24</td>\n",
       "      <td>SAU</td>\n",
       "      <td>6.523</td>\n",
       "      <td>2.075</td>\n",
       "      <td>1.870</td>\n",
       "      <td>1.092</td>\n",
       "      <td>0.577</td>\n",
       "      <td>0.651</td>\n",
       "      <td>0.078</td>\n",
       "      <td>0.180</td>\n",
       "    </tr>\n",
       "    <tr>\n",
       "      <th>5</th>\n",
       "      <td>43</td>\n",
       "      <td>CHL</td>\n",
       "      <td>6.172</td>\n",
       "      <td>2.040</td>\n",
       "      <td>1.651</td>\n",
       "      <td>1.080</td>\n",
       "      <td>0.748</td>\n",
       "      <td>0.460</td>\n",
       "      <td>0.124</td>\n",
       "      <td>0.069</td>\n",
       "    </tr>\n",
       "    <tr>\n",
       "      <th>6</th>\n",
       "      <td>55</td>\n",
       "      <td>PRT</td>\n",
       "      <td>6.016</td>\n",
       "      <td>1.691</td>\n",
       "      <td>1.760</td>\n",
       "      <td>1.078</td>\n",
       "      <td>0.777</td>\n",
       "      <td>0.655</td>\n",
       "      <td>0.016</td>\n",
       "      <td>0.039</td>\n",
       "    </tr>\n",
       "    <tr>\n",
       "      <th>7</th>\n",
       "      <td>71</td>\n",
       "      <td>CHN</td>\n",
       "      <td>5.585</td>\n",
       "      <td>1.516</td>\n",
       "      <td>1.508</td>\n",
       "      <td>0.958</td>\n",
       "      <td>0.705</td>\n",
       "      <td>0.656</td>\n",
       "      <td>0.099</td>\n",
       "      <td>0.142</td>\n",
       "    </tr>\n",
       "    <tr>\n",
       "      <th>8</th>\n",
       "      <td>90</td>\n",
       "      <td>ZAF</td>\n",
       "      <td>5.194</td>\n",
       "      <td>1.742</td>\n",
       "      <td>1.425</td>\n",
       "      <td>1.088</td>\n",
       "      <td>0.361</td>\n",
       "      <td>0.442</td>\n",
       "      <td>0.089</td>\n",
       "      <td>0.046</td>\n",
       "    </tr>\n",
       "    <tr>\n",
       "      <th>9</th>\n",
       "      <td>135</td>\n",
       "      <td>IND</td>\n",
       "      <td>3.777</td>\n",
       "      <td>0.795</td>\n",
       "      <td>1.167</td>\n",
       "      <td>0.376</td>\n",
       "      <td>0.471</td>\n",
       "      <td>0.647</td>\n",
       "      <td>0.198</td>\n",
       "      <td>0.123</td>\n",
       "    </tr>\n",
       "  </tbody>\n",
       "</table>\n",
       "</div>"
      ],
      "text/plain": [
       "   Unnamed: 0 Country  Happiness score  Dystopia (1.83) + residual  \\\n",
       "0           3     CHE            7.512                       2.153   \n",
       "1           4     NLD            7.415                       2.137   \n",
       "2           9     NZL            7.200                       1.954   \n",
       "3          14     CAN            7.025                       1.924   \n",
       "4          24     SAU            6.523                       2.075   \n",
       "5          43     CHL            6.172                       2.040   \n",
       "6          55     PRT            6.016                       1.691   \n",
       "7          71     CHN            5.585                       1.516   \n",
       "8          90     ZAF            5.194                       1.742   \n",
       "9         135     IND            3.777                       0.795   \n",
       "\n",
       "   Explained by: GDP per capita  Explained by: Social support  \\\n",
       "0                         2.026                         1.226   \n",
       "1                         1.945                         1.206   \n",
       "2                         1.852                         1.235   \n",
       "3                         1.886                         1.188   \n",
       "4                         1.870                         1.092   \n",
       "5                         1.651                         1.080   \n",
       "6                         1.760                         1.078   \n",
       "7                         1.508                         0.958   \n",
       "8                         1.425                         1.088   \n",
       "9                         1.167                         0.376   \n",
       "\n",
       "   Explained by: Healthy life expectancy  \\\n",
       "0                                  0.822   \n",
       "1                                  0.787   \n",
       "2                                  0.752   \n",
       "3                                  0.783   \n",
       "4                                  0.577   \n",
       "5                                  0.748   \n",
       "6                                  0.777   \n",
       "7                                  0.705   \n",
       "8                                  0.361   \n",
       "9                                  0.471   \n",
       "\n",
       "   Explained by: Freedom to make life choices  Explained by: Generosity  \\\n",
       "0                                       0.677                     0.147   \n",
       "1                                       0.651                     0.271   \n",
       "2                                       0.680                     0.245   \n",
       "3                                       0.659                     0.217   \n",
       "4                                       0.651                     0.078   \n",
       "5                                       0.460                     0.124   \n",
       "6                                       0.655                     0.016   \n",
       "7                                       0.656                     0.099   \n",
       "8                                       0.442                     0.089   \n",
       "9                                       0.647                     0.198   \n",
       "\n",
       "   Explained by: Perceptions of corruption  \n",
       "0                                    0.461  \n",
       "1                                    0.419  \n",
       "2                                    0.483  \n",
       "3                                    0.368  \n",
       "4                                    0.180  \n",
       "5                                    0.069  \n",
       "6                                    0.039  \n",
       "7                                    0.142  \n",
       "8                                    0.046  \n",
       "9                                    0.123  "
      ]
     },
     "execution_count": 43,
     "metadata": {},
     "output_type": "execute_result"
    }
   ],
   "source": [
    "pd.DataFrame.head(happiness_2022, n=10)"
   ]
  },
  {
   "cell_type": "markdown",
   "id": "75e801c1",
   "metadata": {},
   "source": [
    "Let's analyse the difference in inflation between 2020 and 2022:\n",
    "\n",
    "- In 2020, the inflation was considerably lower than in 2022.\n",
    "- Has the overall happiness score for generosity in 2022 decreased compared to 2020?\n",
    "- Can this be explained by inflation?\"\n",
    "\n",
    "## Happiness and Generosity in 2020 vs 2022\n",
    "\n",
    "- Countries on the X-axis\n",
    "- Bar for 2020 and bar for 2022 in one graph\n",
    "- Happiness score and generosity on the Y-axis (separate graph for each variable)\n",
    "\n",
    "#### Question: Is inflation higher in 2022 than in 2020 in every selected country?\n",
    "\n",
    "#### Question: Is the happiness score lower in 2022 than in 2020 every selected country?\n"
   ]
  },
  {
   "cell_type": "code",
   "execution_count": 44,
   "id": "a274b573",
   "metadata": {},
   "outputs": [
    {
     "data": {
      "application/vnd.plotly.v1+json": {
       "config": {
        "plotlyServerURL": "https://plot.ly"
       },
       "data": [
        {
         "marker": {
          "color": "rgb(102,194,165)"
         },
         "name": "2020",
         "type": "bar",
         "x": [
          null,
          null,
          null,
          null,
          null,
          null,
          null,
          null,
          null,
          null
         ],
         "y": [
          0.2690557539463,
          0.33631756901741,
          0.32572621107101,
          0.28152891993523,
          0.087440684437752,
          0.15557900071144,
          0.053036946803331,
          0.079021044075489,
          0.12640684843063,
          0.23707248270512
         ]
        },
        {
         "marker": {
          "color": "rgb(252,141,98)"
         },
         "name": "2022",
         "type": "bar",
         "x": [
          "CHE",
          "NLD",
          "NZL",
          "CAN",
          "SAU",
          "CHL",
          "PRT",
          "CHN",
          "ZAF",
          "IND"
         ],
         "y": [
          0.147,
          0.271,
          0.245,
          0.217,
          0.078,
          0.124,
          0.016,
          0.099,
          0.089,
          0.198
         ]
        }
       ],
       "layout": {
        "height": 400,
        "template": {
         "data": {
          "bar": [
           {
            "error_x": {
             "color": "#2a3f5f"
            },
            "error_y": {
             "color": "#2a3f5f"
            },
            "marker": {
             "line": {
              "color": "#E5ECF6",
              "width": 0.5
             },
             "pattern": {
              "fillmode": "overlay",
              "size": 10,
              "solidity": 0.2
             }
            },
            "type": "bar"
           }
          ],
          "barpolar": [
           {
            "marker": {
             "line": {
              "color": "#E5ECF6",
              "width": 0.5
             },
             "pattern": {
              "fillmode": "overlay",
              "size": 10,
              "solidity": 0.2
             }
            },
            "type": "barpolar"
           }
          ],
          "carpet": [
           {
            "aaxis": {
             "endlinecolor": "#2a3f5f",
             "gridcolor": "white",
             "linecolor": "white",
             "minorgridcolor": "white",
             "startlinecolor": "#2a3f5f"
            },
            "baxis": {
             "endlinecolor": "#2a3f5f",
             "gridcolor": "white",
             "linecolor": "white",
             "minorgridcolor": "white",
             "startlinecolor": "#2a3f5f"
            },
            "type": "carpet"
           }
          ],
          "choropleth": [
           {
            "colorbar": {
             "outlinewidth": 0,
             "ticks": ""
            },
            "type": "choropleth"
           }
          ],
          "contour": [
           {
            "colorbar": {
             "outlinewidth": 0,
             "ticks": ""
            },
            "colorscale": [
             [
              0,
              "#0d0887"
             ],
             [
              0.1111111111111111,
              "#46039f"
             ],
             [
              0.2222222222222222,
              "#7201a8"
             ],
             [
              0.3333333333333333,
              "#9c179e"
             ],
             [
              0.4444444444444444,
              "#bd3786"
             ],
             [
              0.5555555555555556,
              "#d8576b"
             ],
             [
              0.6666666666666666,
              "#ed7953"
             ],
             [
              0.7777777777777778,
              "#fb9f3a"
             ],
             [
              0.8888888888888888,
              "#fdca26"
             ],
             [
              1,
              "#f0f921"
             ]
            ],
            "type": "contour"
           }
          ],
          "contourcarpet": [
           {
            "colorbar": {
             "outlinewidth": 0,
             "ticks": ""
            },
            "type": "contourcarpet"
           }
          ],
          "heatmap": [
           {
            "colorbar": {
             "outlinewidth": 0,
             "ticks": ""
            },
            "colorscale": [
             [
              0,
              "#0d0887"
             ],
             [
              0.1111111111111111,
              "#46039f"
             ],
             [
              0.2222222222222222,
              "#7201a8"
             ],
             [
              0.3333333333333333,
              "#9c179e"
             ],
             [
              0.4444444444444444,
              "#bd3786"
             ],
             [
              0.5555555555555556,
              "#d8576b"
             ],
             [
              0.6666666666666666,
              "#ed7953"
             ],
             [
              0.7777777777777778,
              "#fb9f3a"
             ],
             [
              0.8888888888888888,
              "#fdca26"
             ],
             [
              1,
              "#f0f921"
             ]
            ],
            "type": "heatmap"
           }
          ],
          "heatmapgl": [
           {
            "colorbar": {
             "outlinewidth": 0,
             "ticks": ""
            },
            "colorscale": [
             [
              0,
              "#0d0887"
             ],
             [
              0.1111111111111111,
              "#46039f"
             ],
             [
              0.2222222222222222,
              "#7201a8"
             ],
             [
              0.3333333333333333,
              "#9c179e"
             ],
             [
              0.4444444444444444,
              "#bd3786"
             ],
             [
              0.5555555555555556,
              "#d8576b"
             ],
             [
              0.6666666666666666,
              "#ed7953"
             ],
             [
              0.7777777777777778,
              "#fb9f3a"
             ],
             [
              0.8888888888888888,
              "#fdca26"
             ],
             [
              1,
              "#f0f921"
             ]
            ],
            "type": "heatmapgl"
           }
          ],
          "histogram": [
           {
            "marker": {
             "pattern": {
              "fillmode": "overlay",
              "size": 10,
              "solidity": 0.2
             }
            },
            "type": "histogram"
           }
          ],
          "histogram2d": [
           {
            "colorbar": {
             "outlinewidth": 0,
             "ticks": ""
            },
            "colorscale": [
             [
              0,
              "#0d0887"
             ],
             [
              0.1111111111111111,
              "#46039f"
             ],
             [
              0.2222222222222222,
              "#7201a8"
             ],
             [
              0.3333333333333333,
              "#9c179e"
             ],
             [
              0.4444444444444444,
              "#bd3786"
             ],
             [
              0.5555555555555556,
              "#d8576b"
             ],
             [
              0.6666666666666666,
              "#ed7953"
             ],
             [
              0.7777777777777778,
              "#fb9f3a"
             ],
             [
              0.8888888888888888,
              "#fdca26"
             ],
             [
              1,
              "#f0f921"
             ]
            ],
            "type": "histogram2d"
           }
          ],
          "histogram2dcontour": [
           {
            "colorbar": {
             "outlinewidth": 0,
             "ticks": ""
            },
            "colorscale": [
             [
              0,
              "#0d0887"
             ],
             [
              0.1111111111111111,
              "#46039f"
             ],
             [
              0.2222222222222222,
              "#7201a8"
             ],
             [
              0.3333333333333333,
              "#9c179e"
             ],
             [
              0.4444444444444444,
              "#bd3786"
             ],
             [
              0.5555555555555556,
              "#d8576b"
             ],
             [
              0.6666666666666666,
              "#ed7953"
             ],
             [
              0.7777777777777778,
              "#fb9f3a"
             ],
             [
              0.8888888888888888,
              "#fdca26"
             ],
             [
              1,
              "#f0f921"
             ]
            ],
            "type": "histogram2dcontour"
           }
          ],
          "mesh3d": [
           {
            "colorbar": {
             "outlinewidth": 0,
             "ticks": ""
            },
            "type": "mesh3d"
           }
          ],
          "parcoords": [
           {
            "line": {
             "colorbar": {
              "outlinewidth": 0,
              "ticks": ""
             }
            },
            "type": "parcoords"
           }
          ],
          "pie": [
           {
            "automargin": true,
            "type": "pie"
           }
          ],
          "scatter": [
           {
            "fillpattern": {
             "fillmode": "overlay",
             "size": 10,
             "solidity": 0.2
            },
            "type": "scatter"
           }
          ],
          "scatter3d": [
           {
            "line": {
             "colorbar": {
              "outlinewidth": 0,
              "ticks": ""
             }
            },
            "marker": {
             "colorbar": {
              "outlinewidth": 0,
              "ticks": ""
             }
            },
            "type": "scatter3d"
           }
          ],
          "scattercarpet": [
           {
            "marker": {
             "colorbar": {
              "outlinewidth": 0,
              "ticks": ""
             }
            },
            "type": "scattercarpet"
           }
          ],
          "scattergeo": [
           {
            "marker": {
             "colorbar": {
              "outlinewidth": 0,
              "ticks": ""
             }
            },
            "type": "scattergeo"
           }
          ],
          "scattergl": [
           {
            "marker": {
             "colorbar": {
              "outlinewidth": 0,
              "ticks": ""
             }
            },
            "type": "scattergl"
           }
          ],
          "scattermapbox": [
           {
            "marker": {
             "colorbar": {
              "outlinewidth": 0,
              "ticks": ""
             }
            },
            "type": "scattermapbox"
           }
          ],
          "scatterpolar": [
           {
            "marker": {
             "colorbar": {
              "outlinewidth": 0,
              "ticks": ""
             }
            },
            "type": "scatterpolar"
           }
          ],
          "scatterpolargl": [
           {
            "marker": {
             "colorbar": {
              "outlinewidth": 0,
              "ticks": ""
             }
            },
            "type": "scatterpolargl"
           }
          ],
          "scatterternary": [
           {
            "marker": {
             "colorbar": {
              "outlinewidth": 0,
              "ticks": ""
             }
            },
            "type": "scatterternary"
           }
          ],
          "surface": [
           {
            "colorbar": {
             "outlinewidth": 0,
             "ticks": ""
            },
            "colorscale": [
             [
              0,
              "#0d0887"
             ],
             [
              0.1111111111111111,
              "#46039f"
             ],
             [
              0.2222222222222222,
              "#7201a8"
             ],
             [
              0.3333333333333333,
              "#9c179e"
             ],
             [
              0.4444444444444444,
              "#bd3786"
             ],
             [
              0.5555555555555556,
              "#d8576b"
             ],
             [
              0.6666666666666666,
              "#ed7953"
             ],
             [
              0.7777777777777778,
              "#fb9f3a"
             ],
             [
              0.8888888888888888,
              "#fdca26"
             ],
             [
              1,
              "#f0f921"
             ]
            ],
            "type": "surface"
           }
          ],
          "table": [
           {
            "cells": {
             "fill": {
              "color": "#EBF0F8"
             },
             "line": {
              "color": "white"
             }
            },
            "header": {
             "fill": {
              "color": "#C8D4E3"
             },
             "line": {
              "color": "white"
             }
            },
            "type": "table"
           }
          ]
         },
         "layout": {
          "annotationdefaults": {
           "arrowcolor": "#2a3f5f",
           "arrowhead": 0,
           "arrowwidth": 1
          },
          "autotypenumbers": "strict",
          "coloraxis": {
           "colorbar": {
            "outlinewidth": 0,
            "ticks": ""
           }
          },
          "colorscale": {
           "diverging": [
            [
             0,
             "#8e0152"
            ],
            [
             0.1,
             "#c51b7d"
            ],
            [
             0.2,
             "#de77ae"
            ],
            [
             0.3,
             "#f1b6da"
            ],
            [
             0.4,
             "#fde0ef"
            ],
            [
             0.5,
             "#f7f7f7"
            ],
            [
             0.6,
             "#e6f5d0"
            ],
            [
             0.7,
             "#b8e186"
            ],
            [
             0.8,
             "#7fbc41"
            ],
            [
             0.9,
             "#4d9221"
            ],
            [
             1,
             "#276419"
            ]
           ],
           "sequential": [
            [
             0,
             "#0d0887"
            ],
            [
             0.1111111111111111,
             "#46039f"
            ],
            [
             0.2222222222222222,
             "#7201a8"
            ],
            [
             0.3333333333333333,
             "#9c179e"
            ],
            [
             0.4444444444444444,
             "#bd3786"
            ],
            [
             0.5555555555555556,
             "#d8576b"
            ],
            [
             0.6666666666666666,
             "#ed7953"
            ],
            [
             0.7777777777777778,
             "#fb9f3a"
            ],
            [
             0.8888888888888888,
             "#fdca26"
            ],
            [
             1,
             "#f0f921"
            ]
           ],
           "sequentialminus": [
            [
             0,
             "#0d0887"
            ],
            [
             0.1111111111111111,
             "#46039f"
            ],
            [
             0.2222222222222222,
             "#7201a8"
            ],
            [
             0.3333333333333333,
             "#9c179e"
            ],
            [
             0.4444444444444444,
             "#bd3786"
            ],
            [
             0.5555555555555556,
             "#d8576b"
            ],
            [
             0.6666666666666666,
             "#ed7953"
            ],
            [
             0.7777777777777778,
             "#fb9f3a"
            ],
            [
             0.8888888888888888,
             "#fdca26"
            ],
            [
             1,
             "#f0f921"
            ]
           ]
          },
          "colorway": [
           "#636efa",
           "#EF553B",
           "#00cc96",
           "#ab63fa",
           "#FFA15A",
           "#19d3f3",
           "#FF6692",
           "#B6E880",
           "#FF97FF",
           "#FECB52"
          ],
          "font": {
           "color": "#2a3f5f"
          },
          "geo": {
           "bgcolor": "white",
           "lakecolor": "white",
           "landcolor": "#E5ECF6",
           "showlakes": true,
           "showland": true,
           "subunitcolor": "white"
          },
          "hoverlabel": {
           "align": "left"
          },
          "hovermode": "closest",
          "mapbox": {
           "style": "light"
          },
          "paper_bgcolor": "white",
          "plot_bgcolor": "#E5ECF6",
          "polar": {
           "angularaxis": {
            "gridcolor": "white",
            "linecolor": "white",
            "ticks": ""
           },
           "bgcolor": "#E5ECF6",
           "radialaxis": {
            "gridcolor": "white",
            "linecolor": "white",
            "ticks": ""
           }
          },
          "scene": {
           "xaxis": {
            "backgroundcolor": "#E5ECF6",
            "gridcolor": "white",
            "gridwidth": 2,
            "linecolor": "white",
            "showbackground": true,
            "ticks": "",
            "zerolinecolor": "white"
           },
           "yaxis": {
            "backgroundcolor": "#E5ECF6",
            "gridcolor": "white",
            "gridwidth": 2,
            "linecolor": "white",
            "showbackground": true,
            "ticks": "",
            "zerolinecolor": "white"
           },
           "zaxis": {
            "backgroundcolor": "#E5ECF6",
            "gridcolor": "white",
            "gridwidth": 2,
            "linecolor": "white",
            "showbackground": true,
            "ticks": "",
            "zerolinecolor": "white"
           }
          },
          "shapedefaults": {
           "line": {
            "color": "#2a3f5f"
           }
          },
          "ternary": {
           "aaxis": {
            "gridcolor": "white",
            "linecolor": "white",
            "ticks": ""
           },
           "baxis": {
            "gridcolor": "white",
            "linecolor": "white",
            "ticks": ""
           },
           "bgcolor": "#E5ECF6",
           "caxis": {
            "gridcolor": "white",
            "linecolor": "white",
            "ticks": ""
           }
          },
          "title": {
           "x": 0.05
          },
          "xaxis": {
           "automargin": true,
           "gridcolor": "white",
           "linecolor": "white",
           "ticks": "",
           "title": {
            "standoff": 15
           },
           "zerolinecolor": "white",
           "zerolinewidth": 2
          },
          "yaxis": {
           "automargin": true,
           "gridcolor": "white",
           "linecolor": "white",
           "ticks": "",
           "title": {
            "standoff": 15
           },
           "zerolinecolor": "white",
           "zerolinewidth": 2
          }
         }
        },
        "title": {
         "text": "World happiness explained by generosity 2020 vs 2022"
        },
        "xaxis": {
         "title": {
          "text": "Country"
         },
         "type": "category"
        },
        "yaxis": {
         "tickformat": ",.0%",
         "title": {
          "text": "Percentage explaind by generosity"
         }
        }
       }
      },
      "text/html": [
       "<div>                            <div id=\"676cea38-9368-495a-99ba-2dea793a4004\" class=\"plotly-graph-div\" style=\"height:400px; width:100%;\"></div>            <script type=\"text/javascript\">                require([\"plotly\"], function(Plotly) {                    window.PLOTLYENV=window.PLOTLYENV || {};                                    if (document.getElementById(\"676cea38-9368-495a-99ba-2dea793a4004\")) {                    Plotly.newPlot(                        \"676cea38-9368-495a-99ba-2dea793a4004\",                        [{\"marker\":{\"color\":\"rgb(102,194,165)\"},\"name\":\"2020\",\"x\":[null,null,null,null,null,null,null,null,null,null],\"y\":[0.2690557539463,0.33631756901741,0.32572621107101,0.28152891993523,0.087440684437752,0.15557900071144,0.053036946803331,0.079021044075489,0.12640684843063,0.23707248270512],\"type\":\"bar\"},{\"marker\":{\"color\":\"rgb(252,141,98)\"},\"name\":\"2022\",\"x\":[\"CHE\",\"NLD\",\"NZL\",\"CAN\",\"SAU\",\"CHL\",\"PRT\",\"CHN\",\"ZAF\",\"IND\"],\"y\":[0.147,0.271,0.245,0.217,0.078,0.124,0.016,0.099,0.089,0.198],\"type\":\"bar\"}],                        {\"height\":400,\"xaxis\":{\"type\":\"category\",\"title\":{\"text\":\"Country\"}},\"yaxis\":{\"tickformat\":\",.0%\",\"title\":{\"text\":\"Percentage explaind by generosity\"}},\"template\":{\"data\":{\"histogram2dcontour\":[{\"type\":\"histogram2dcontour\",\"colorbar\":{\"outlinewidth\":0,\"ticks\":\"\"},\"colorscale\":[[0.0,\"#0d0887\"],[0.1111111111111111,\"#46039f\"],[0.2222222222222222,\"#7201a8\"],[0.3333333333333333,\"#9c179e\"],[0.4444444444444444,\"#bd3786\"],[0.5555555555555556,\"#d8576b\"],[0.6666666666666666,\"#ed7953\"],[0.7777777777777778,\"#fb9f3a\"],[0.8888888888888888,\"#fdca26\"],[1.0,\"#f0f921\"]]}],\"choropleth\":[{\"type\":\"choropleth\",\"colorbar\":{\"outlinewidth\":0,\"ticks\":\"\"}}],\"histogram2d\":[{\"type\":\"histogram2d\",\"colorbar\":{\"outlinewidth\":0,\"ticks\":\"\"},\"colorscale\":[[0.0,\"#0d0887\"],[0.1111111111111111,\"#46039f\"],[0.2222222222222222,\"#7201a8\"],[0.3333333333333333,\"#9c179e\"],[0.4444444444444444,\"#bd3786\"],[0.5555555555555556,\"#d8576b\"],[0.6666666666666666,\"#ed7953\"],[0.7777777777777778,\"#fb9f3a\"],[0.8888888888888888,\"#fdca26\"],[1.0,\"#f0f921\"]]}],\"heatmap\":[{\"type\":\"heatmap\",\"colorbar\":{\"outlinewidth\":0,\"ticks\":\"\"},\"colorscale\":[[0.0,\"#0d0887\"],[0.1111111111111111,\"#46039f\"],[0.2222222222222222,\"#7201a8\"],[0.3333333333333333,\"#9c179e\"],[0.4444444444444444,\"#bd3786\"],[0.5555555555555556,\"#d8576b\"],[0.6666666666666666,\"#ed7953\"],[0.7777777777777778,\"#fb9f3a\"],[0.8888888888888888,\"#fdca26\"],[1.0,\"#f0f921\"]]}],\"heatmapgl\":[{\"type\":\"heatmapgl\",\"colorbar\":{\"outlinewidth\":0,\"ticks\":\"\"},\"colorscale\":[[0.0,\"#0d0887\"],[0.1111111111111111,\"#46039f\"],[0.2222222222222222,\"#7201a8\"],[0.3333333333333333,\"#9c179e\"],[0.4444444444444444,\"#bd3786\"],[0.5555555555555556,\"#d8576b\"],[0.6666666666666666,\"#ed7953\"],[0.7777777777777778,\"#fb9f3a\"],[0.8888888888888888,\"#fdca26\"],[1.0,\"#f0f921\"]]}],\"contourcarpet\":[{\"type\":\"contourcarpet\",\"colorbar\":{\"outlinewidth\":0,\"ticks\":\"\"}}],\"contour\":[{\"type\":\"contour\",\"colorbar\":{\"outlinewidth\":0,\"ticks\":\"\"},\"colorscale\":[[0.0,\"#0d0887\"],[0.1111111111111111,\"#46039f\"],[0.2222222222222222,\"#7201a8\"],[0.3333333333333333,\"#9c179e\"],[0.4444444444444444,\"#bd3786\"],[0.5555555555555556,\"#d8576b\"],[0.6666666666666666,\"#ed7953\"],[0.7777777777777778,\"#fb9f3a\"],[0.8888888888888888,\"#fdca26\"],[1.0,\"#f0f921\"]]}],\"surface\":[{\"type\":\"surface\",\"colorbar\":{\"outlinewidth\":0,\"ticks\":\"\"},\"colorscale\":[[0.0,\"#0d0887\"],[0.1111111111111111,\"#46039f\"],[0.2222222222222222,\"#7201a8\"],[0.3333333333333333,\"#9c179e\"],[0.4444444444444444,\"#bd3786\"],[0.5555555555555556,\"#d8576b\"],[0.6666666666666666,\"#ed7953\"],[0.7777777777777778,\"#fb9f3a\"],[0.8888888888888888,\"#fdca26\"],[1.0,\"#f0f921\"]]}],\"mesh3d\":[{\"type\":\"mesh3d\",\"colorbar\":{\"outlinewidth\":0,\"ticks\":\"\"}}],\"scatter\":[{\"fillpattern\":{\"fillmode\":\"overlay\",\"size\":10,\"solidity\":0.2},\"type\":\"scatter\"}],\"parcoords\":[{\"type\":\"parcoords\",\"line\":{\"colorbar\":{\"outlinewidth\":0,\"ticks\":\"\"}}}],\"scatterpolargl\":[{\"type\":\"scatterpolargl\",\"marker\":{\"colorbar\":{\"outlinewidth\":0,\"ticks\":\"\"}}}],\"bar\":[{\"error_x\":{\"color\":\"#2a3f5f\"},\"error_y\":{\"color\":\"#2a3f5f\"},\"marker\":{\"line\":{\"color\":\"#E5ECF6\",\"width\":0.5},\"pattern\":{\"fillmode\":\"overlay\",\"size\":10,\"solidity\":0.2}},\"type\":\"bar\"}],\"scattergeo\":[{\"type\":\"scattergeo\",\"marker\":{\"colorbar\":{\"outlinewidth\":0,\"ticks\":\"\"}}}],\"scatterpolar\":[{\"type\":\"scatterpolar\",\"marker\":{\"colorbar\":{\"outlinewidth\":0,\"ticks\":\"\"}}}],\"histogram\":[{\"marker\":{\"pattern\":{\"fillmode\":\"overlay\",\"size\":10,\"solidity\":0.2}},\"type\":\"histogram\"}],\"scattergl\":[{\"type\":\"scattergl\",\"marker\":{\"colorbar\":{\"outlinewidth\":0,\"ticks\":\"\"}}}],\"scatter3d\":[{\"type\":\"scatter3d\",\"line\":{\"colorbar\":{\"outlinewidth\":0,\"ticks\":\"\"}},\"marker\":{\"colorbar\":{\"outlinewidth\":0,\"ticks\":\"\"}}}],\"scattermapbox\":[{\"type\":\"scattermapbox\",\"marker\":{\"colorbar\":{\"outlinewidth\":0,\"ticks\":\"\"}}}],\"scatterternary\":[{\"type\":\"scatterternary\",\"marker\":{\"colorbar\":{\"outlinewidth\":0,\"ticks\":\"\"}}}],\"scattercarpet\":[{\"type\":\"scattercarpet\",\"marker\":{\"colorbar\":{\"outlinewidth\":0,\"ticks\":\"\"}}}],\"carpet\":[{\"aaxis\":{\"endlinecolor\":\"#2a3f5f\",\"gridcolor\":\"white\",\"linecolor\":\"white\",\"minorgridcolor\":\"white\",\"startlinecolor\":\"#2a3f5f\"},\"baxis\":{\"endlinecolor\":\"#2a3f5f\",\"gridcolor\":\"white\",\"linecolor\":\"white\",\"minorgridcolor\":\"white\",\"startlinecolor\":\"#2a3f5f\"},\"type\":\"carpet\"}],\"table\":[{\"cells\":{\"fill\":{\"color\":\"#EBF0F8\"},\"line\":{\"color\":\"white\"}},\"header\":{\"fill\":{\"color\":\"#C8D4E3\"},\"line\":{\"color\":\"white\"}},\"type\":\"table\"}],\"barpolar\":[{\"marker\":{\"line\":{\"color\":\"#E5ECF6\",\"width\":0.5},\"pattern\":{\"fillmode\":\"overlay\",\"size\":10,\"solidity\":0.2}},\"type\":\"barpolar\"}],\"pie\":[{\"automargin\":true,\"type\":\"pie\"}]},\"layout\":{\"autotypenumbers\":\"strict\",\"colorway\":[\"#636efa\",\"#EF553B\",\"#00cc96\",\"#ab63fa\",\"#FFA15A\",\"#19d3f3\",\"#FF6692\",\"#B6E880\",\"#FF97FF\",\"#FECB52\"],\"font\":{\"color\":\"#2a3f5f\"},\"hovermode\":\"closest\",\"hoverlabel\":{\"align\":\"left\"},\"paper_bgcolor\":\"white\",\"plot_bgcolor\":\"#E5ECF6\",\"polar\":{\"bgcolor\":\"#E5ECF6\",\"angularaxis\":{\"gridcolor\":\"white\",\"linecolor\":\"white\",\"ticks\":\"\"},\"radialaxis\":{\"gridcolor\":\"white\",\"linecolor\":\"white\",\"ticks\":\"\"}},\"ternary\":{\"bgcolor\":\"#E5ECF6\",\"aaxis\":{\"gridcolor\":\"white\",\"linecolor\":\"white\",\"ticks\":\"\"},\"baxis\":{\"gridcolor\":\"white\",\"linecolor\":\"white\",\"ticks\":\"\"},\"caxis\":{\"gridcolor\":\"white\",\"linecolor\":\"white\",\"ticks\":\"\"}},\"coloraxis\":{\"colorbar\":{\"outlinewidth\":0,\"ticks\":\"\"}},\"colorscale\":{\"sequential\":[[0.0,\"#0d0887\"],[0.1111111111111111,\"#46039f\"],[0.2222222222222222,\"#7201a8\"],[0.3333333333333333,\"#9c179e\"],[0.4444444444444444,\"#bd3786\"],[0.5555555555555556,\"#d8576b\"],[0.6666666666666666,\"#ed7953\"],[0.7777777777777778,\"#fb9f3a\"],[0.8888888888888888,\"#fdca26\"],[1.0,\"#f0f921\"]],\"sequentialminus\":[[0.0,\"#0d0887\"],[0.1111111111111111,\"#46039f\"],[0.2222222222222222,\"#7201a8\"],[0.3333333333333333,\"#9c179e\"],[0.4444444444444444,\"#bd3786\"],[0.5555555555555556,\"#d8576b\"],[0.6666666666666666,\"#ed7953\"],[0.7777777777777778,\"#fb9f3a\"],[0.8888888888888888,\"#fdca26\"],[1.0,\"#f0f921\"]],\"diverging\":[[0,\"#8e0152\"],[0.1,\"#c51b7d\"],[0.2,\"#de77ae\"],[0.3,\"#f1b6da\"],[0.4,\"#fde0ef\"],[0.5,\"#f7f7f7\"],[0.6,\"#e6f5d0\"],[0.7,\"#b8e186\"],[0.8,\"#7fbc41\"],[0.9,\"#4d9221\"],[1,\"#276419\"]]},\"xaxis\":{\"gridcolor\":\"white\",\"linecolor\":\"white\",\"ticks\":\"\",\"title\":{\"standoff\":15},\"zerolinecolor\":\"white\",\"automargin\":true,\"zerolinewidth\":2},\"yaxis\":{\"gridcolor\":\"white\",\"linecolor\":\"white\",\"ticks\":\"\",\"title\":{\"standoff\":15},\"zerolinecolor\":\"white\",\"automargin\":true,\"zerolinewidth\":2},\"scene\":{\"xaxis\":{\"backgroundcolor\":\"#E5ECF6\",\"gridcolor\":\"white\",\"linecolor\":\"white\",\"showbackground\":true,\"ticks\":\"\",\"zerolinecolor\":\"white\",\"gridwidth\":2},\"yaxis\":{\"backgroundcolor\":\"#E5ECF6\",\"gridcolor\":\"white\",\"linecolor\":\"white\",\"showbackground\":true,\"ticks\":\"\",\"zerolinecolor\":\"white\",\"gridwidth\":2},\"zaxis\":{\"backgroundcolor\":\"#E5ECF6\",\"gridcolor\":\"white\",\"linecolor\":\"white\",\"showbackground\":true,\"ticks\":\"\",\"zerolinecolor\":\"white\",\"gridwidth\":2}},\"shapedefaults\":{\"line\":{\"color\":\"#2a3f5f\"}},\"annotationdefaults\":{\"arrowcolor\":\"#2a3f5f\",\"arrowhead\":0,\"arrowwidth\":1},\"geo\":{\"bgcolor\":\"white\",\"landcolor\":\"#E5ECF6\",\"subunitcolor\":\"white\",\"showland\":true,\"showlakes\":true,\"lakecolor\":\"white\"},\"title\":{\"x\":0.05},\"mapbox\":{\"style\":\"light\"}}},\"title\":{\"text\":\"World happiness explained by generosity 2020 vs 2022\"}},                        {\"responsive\": true}                    ).then(function(){\n",
       "                            \n",
       "var gd = document.getElementById('676cea38-9368-495a-99ba-2dea793a4004');\n",
       "var x = new MutationObserver(function (mutations, observer) {{\n",
       "        var display = window.getComputedStyle(gd).display;\n",
       "        if (!display || display === 'none') {{\n",
       "            console.log([gd, 'removed!']);\n",
       "            Plotly.purge(gd);\n",
       "            observer.disconnect();\n",
       "        }}\n",
       "}});\n",
       "\n",
       "// Listen for the removal of the full notebook cells\n",
       "var notebookContainer = gd.closest('#notebook-container');\n",
       "if (notebookContainer) {{\n",
       "    x.observe(notebookContainer, {childList: true});\n",
       "}}\n",
       "\n",
       "// Listen for the clearing of the current output cell\n",
       "var outputEl = gd.closest('.output');\n",
       "if (outputEl) {{\n",
       "    x.observe(outputEl, {childList: true});\n",
       "}}\n",
       "\n",
       "                        })                };                });            </script>        </div>"
      ]
     },
     "metadata": {},
     "output_type": "display_data"
    }
   ],
   "source": [
    "# Define the colors (ChatGPT)\n",
    "colors = ['rgb(102,194,165)', 'rgb(252,141,98)', 'rgb(141,160,203)']\n",
    "\n",
    "# creeer de layout\n",
    "layout = go.Layout(\n",
    "    xaxis=go.layout.XAxis(\n",
    "        type='category' # het type van de X as is categorisch\n",
    "    ),\n",
    "    yaxis = go.layout.YAxis(\n",
    "        tickformat = ',.0%', # toon als percentage\n",
    "    ),\n",
    "    height=400\n",
    ")\n",
    "\n",
    "year2020 = go.Bar(\n",
    "    x=happiness_2020['Country name'],\n",
    "    y=happiness_2020['Explained by: Generosity'], # by year 2020\n",
    "    name='2020',\n",
    "    marker=dict(color=colors[0]) #ChatGPT \n",
    ")\n",
    "year2022 = go.Bar(\n",
    "    x=happiness_2022['Country'],\n",
    "    y=happiness_2022['Explained by: Generosity'],\n",
    "    name='2022',\n",
    "    marker=dict(color=colors[1]) #ChatGPT\n",
    ")\n",
    "\n",
    "data = [year2020, year2022]\n",
    "fig = go.Figure(data=data, layout=layout)\n",
    "\n",
    "# labels\n",
    "fig.update_layout(\n",
    "    title=\"World happiness explained by generosity 2020 vs 2022\",\n",
    "    xaxis_title=\"Country\",\n",
    "    yaxis_title=\"Percentage explaind by generosity\")\n",
    "    \n",
    "fig.show()"
   ]
  },
  {
   "cell_type": "markdown",
   "id": "e97ea7bc",
   "metadata": {},
   "source": [
    "### Conclusion\n",
    "\n",
    "The graph shows that the 'happiness explained by generosity is lower  for almost every country in 2022 than in 2020. Inflation is much higher in 2022 than in 2020. From this graph can be concluded that when inflation is higher, people experience less happiness due to generosity.\n"
   ]
  },
  {
   "cell_type": "code",
   "execution_count": 45,
   "id": "917e51cd",
   "metadata": {},
   "outputs": [
    {
     "data": {
      "application/vnd.plotly.v1+json": {
       "config": {
        "plotlyServerURL": "https://plot.ly"
       },
       "data": [
        {
         "marker": {
          "color": "rgb(102,194,165)"
         },
         "name": "2020",
         "type": "bar",
         "x": [
          "AUS",
          "AUS",
          "AUT",
          "AUT",
          "BEL",
          "BEL",
          "CAN",
          "CAN",
          "CZE",
          "CZE",
          "DNK",
          "DNK",
          "FIN",
          "FIN",
          "FRA",
          "FRA",
          "DEU",
          "DEU",
          "ITA",
          "ITA",
          "JPN",
          "JPN",
          "MEX",
          "MEX",
          "NLD",
          "NLD",
          "NZL",
          "NZL",
          "NOR",
          "NOR",
          "PRT",
          "PRT",
          "ESP",
          "ESP",
          "CHE",
          "CHE",
          "GBR",
          "GBR",
          "USA",
          "USA",
          "BRA",
          "CHL",
          "CHL",
          "CHN",
          "EST",
          "EST",
          "IND",
          "ZAF",
          "ZAF",
          "OECD",
          "OECD",
          "G-7",
          "OECDE",
          "G-7",
          "OECDE",
          "COL",
          "SAU",
          "EA19",
          "EA19",
          "ZAF",
          "FRA",
          "MEX",
          "OECDE",
          "PRT",
          "CAN",
          "ITA",
          "CHL",
          "CHE",
          "EA19",
          "DEU",
          "NOR",
          "BEL",
          "FIN",
          "AUT",
          "USA",
          "OECD",
          "NZL",
          "DNK",
          "GBR",
          "AUS",
          "NLD",
          "EST",
          "ESP",
          "CZE",
          "JPN",
          "G-7",
          "COL",
          "COL",
          "ARG",
          "CRI",
          "CRI",
          "G-20",
          "CRI",
          "SAU",
          "ARG",
          "EU27_2020",
          "EU27_2020",
          "EU27_2020"
         ],
         "y": [
          9.320118,
          0.8469055,
          2.331635,
          1.381909,
          2.881715,
          0.7407918,
          2.400181,
          0.7169997,
          4.538125,
          3.161295,
          0.6386206,
          0.420712,
          1.66011,
          0.2905546,
          2.021613,
          0.4764988,
          2.140428,
          0.1448705,
          1.400448,
          -0.1377076,
          1.197302,
          -0.01666667,
          6.621487,
          3.396834,
          1.889179,
          1.27246,
          3.180124,
          1.714562,
          3.261978,
          1.286585,
          2.087344,
          -0.01243833,
          2.354986,
          -0.322753,
          0.09248759,
          -0.725875,
          0.7,
          1,
          3.50503,
          1.233584,
          3.211768,
          6.739003,
          3.045491,
          2.5,
          2.139228,
          -0.4445311,
          5.561349,
          4.388361,
          3.210036,
          3.417091,
          1.346594,
          2.681905,
          3.014454,
          0.8373157,
          1.59706,
          2.52662,
          3.445458,
          2,
          0.3,
          3.359348,
          0.8851095,
          3.200822,
          2.046867,
          -0.03927258,
          1.187,
          0.4921978,
          2.286143,
          -0.3414941,
          0.7,
          0.287277,
          2.665058,
          1.479317,
          0.504051,
          1.899783,
          1.702817,
          1.693894,
          2.223668,
          0.9559481,
          1.5,
          -0.004077226,
          2.125606,
          0.1487379,
          0.5682508,
          3.631627,
          0.1084327,
          1.246457,
          5.551534,
          2.247486,
          42.01509,
          0.7249115,
          1.310271,
          2.694649,
          0.4831476,
          9.012465,
          46.96305,
          2.5,
          0.7,
          1.1
         ]
        },
        {
         "marker": {
          "color": "rgb(252,141,98)"
         },
         "name": "2022",
         "type": "bar",
         "x": [
          "AUS",
          "AUS",
          "AUT",
          "AUT",
          "BEL",
          "BEL",
          "CAN",
          "CAN",
          "CZE",
          "CZE",
          "DNK",
          "DNK",
          "FIN",
          "FIN",
          "FRA",
          "FRA",
          "DEU",
          "DEU",
          "ITA",
          "ITA",
          "JPN",
          "JPN",
          "MEX",
          "MEX",
          "NLD",
          "NLD",
          "NZL",
          "NZL",
          "NOR",
          "NOR",
          "PRT",
          "PRT",
          "ESP",
          "ESP",
          "CHE",
          "CHE",
          "GBR",
          "GBR",
          "USA",
          "USA",
          "BRA",
          "CHL",
          "CHL",
          "EST",
          "EST",
          "IND",
          "ZAF",
          "ZAF",
          "OECD",
          "OECD",
          "G-7",
          "OECDE",
          "G-7",
          "OECDE",
          "COL",
          "SAU",
          "EA19",
          "EA19",
          "ZAF",
          "FRA",
          "MEX",
          "OECDE",
          "PRT",
          "CAN",
          "ITA",
          "CHL",
          "CHE",
          "EA19",
          "DEU",
          "NOR",
          "BEL",
          "FIN",
          "AUT",
          "USA",
          "OECD",
          "NZL",
          "DNK",
          "GBR",
          "AUS",
          "NLD",
          "EST",
          "ESP",
          "CZE",
          "JPN",
          "G-7",
          "COL",
          "COL",
          "ARG",
          "G-20",
          "SAU",
          "ARG",
          "EU27_2020",
          "EU27_2020",
          "EU27_2020"
         ],
         "y": [
          8.1667,
          6.594097,
          10.74824,
          8.54687,
          8.794951,
          9.597511,
          9.762547,
          6.802801,
          16.6946,
          15.10017,
          11.5142,
          7.696567,
          10.50721,
          7.123507,
          7.277634,
          5.222367,
          12.56164,
          6.872574,
          9.141557,
          8.20129,
          4.901634,
          2.508333,
          13.26198,
          7.896276,
          10.74305,
          10.00121,
          8.660672,
          7.172225,
          6.495117,
          5.764123,
          12.99107,
          7.832691,
          11.63969,
          8.390576,
          1.658954,
          2.835028,
          10.9,
          7.9,
          11.43888,
          8.0028,
          9.280107,
          17.72102,
          11.64387,
          19.91215,
          19.39826,
          5.90043,
          9.284925,
          7.039727,
          13.15614,
          9.55068,
          10.40229,
          17.55079,
          7.142418,
          13.78405,
          10.17724,
          2.474074,
          10.5,
          8.4,
          4.556124,
          2.779273,
          5.998022,
          9.311513,
          5.616037,
          5.079893,
          2.932897,
          8.951247,
          1.715623,
          4,
          3.92777,
          3.612885,
          4.569578,
          4.146388,
          5.489844,
          6.150387,
          6.751289,
          5.993085,
          4.025807,
          5.3,
          5.545571,
          4.249225,
          9.726146,
          3.69075,
          12.19632,
          0.3189525,
          4.899688,
          24.96117,
          6.480474,
          72.43076,
          8.563109,
          3.720494,
          74.63056,
          11.9,
          9.2,
          4.7
         ]
        }
       ],
       "layout": {
        "height": 400,
        "template": {
         "data": {
          "bar": [
           {
            "error_x": {
             "color": "#2a3f5f"
            },
            "error_y": {
             "color": "#2a3f5f"
            },
            "marker": {
             "line": {
              "color": "#E5ECF6",
              "width": 0.5
             },
             "pattern": {
              "fillmode": "overlay",
              "size": 10,
              "solidity": 0.2
             }
            },
            "type": "bar"
           }
          ],
          "barpolar": [
           {
            "marker": {
             "line": {
              "color": "#E5ECF6",
              "width": 0.5
             },
             "pattern": {
              "fillmode": "overlay",
              "size": 10,
              "solidity": 0.2
             }
            },
            "type": "barpolar"
           }
          ],
          "carpet": [
           {
            "aaxis": {
             "endlinecolor": "#2a3f5f",
             "gridcolor": "white",
             "linecolor": "white",
             "minorgridcolor": "white",
             "startlinecolor": "#2a3f5f"
            },
            "baxis": {
             "endlinecolor": "#2a3f5f",
             "gridcolor": "white",
             "linecolor": "white",
             "minorgridcolor": "white",
             "startlinecolor": "#2a3f5f"
            },
            "type": "carpet"
           }
          ],
          "choropleth": [
           {
            "colorbar": {
             "outlinewidth": 0,
             "ticks": ""
            },
            "type": "choropleth"
           }
          ],
          "contour": [
           {
            "colorbar": {
             "outlinewidth": 0,
             "ticks": ""
            },
            "colorscale": [
             [
              0,
              "#0d0887"
             ],
             [
              0.1111111111111111,
              "#46039f"
             ],
             [
              0.2222222222222222,
              "#7201a8"
             ],
             [
              0.3333333333333333,
              "#9c179e"
             ],
             [
              0.4444444444444444,
              "#bd3786"
             ],
             [
              0.5555555555555556,
              "#d8576b"
             ],
             [
              0.6666666666666666,
              "#ed7953"
             ],
             [
              0.7777777777777778,
              "#fb9f3a"
             ],
             [
              0.8888888888888888,
              "#fdca26"
             ],
             [
              1,
              "#f0f921"
             ]
            ],
            "type": "contour"
           }
          ],
          "contourcarpet": [
           {
            "colorbar": {
             "outlinewidth": 0,
             "ticks": ""
            },
            "type": "contourcarpet"
           }
          ],
          "heatmap": [
           {
            "colorbar": {
             "outlinewidth": 0,
             "ticks": ""
            },
            "colorscale": [
             [
              0,
              "#0d0887"
             ],
             [
              0.1111111111111111,
              "#46039f"
             ],
             [
              0.2222222222222222,
              "#7201a8"
             ],
             [
              0.3333333333333333,
              "#9c179e"
             ],
             [
              0.4444444444444444,
              "#bd3786"
             ],
             [
              0.5555555555555556,
              "#d8576b"
             ],
             [
              0.6666666666666666,
              "#ed7953"
             ],
             [
              0.7777777777777778,
              "#fb9f3a"
             ],
             [
              0.8888888888888888,
              "#fdca26"
             ],
             [
              1,
              "#f0f921"
             ]
            ],
            "type": "heatmap"
           }
          ],
          "heatmapgl": [
           {
            "colorbar": {
             "outlinewidth": 0,
             "ticks": ""
            },
            "colorscale": [
             [
              0,
              "#0d0887"
             ],
             [
              0.1111111111111111,
              "#46039f"
             ],
             [
              0.2222222222222222,
              "#7201a8"
             ],
             [
              0.3333333333333333,
              "#9c179e"
             ],
             [
              0.4444444444444444,
              "#bd3786"
             ],
             [
              0.5555555555555556,
              "#d8576b"
             ],
             [
              0.6666666666666666,
              "#ed7953"
             ],
             [
              0.7777777777777778,
              "#fb9f3a"
             ],
             [
              0.8888888888888888,
              "#fdca26"
             ],
             [
              1,
              "#f0f921"
             ]
            ],
            "type": "heatmapgl"
           }
          ],
          "histogram": [
           {
            "marker": {
             "pattern": {
              "fillmode": "overlay",
              "size": 10,
              "solidity": 0.2
             }
            },
            "type": "histogram"
           }
          ],
          "histogram2d": [
           {
            "colorbar": {
             "outlinewidth": 0,
             "ticks": ""
            },
            "colorscale": [
             [
              0,
              "#0d0887"
             ],
             [
              0.1111111111111111,
              "#46039f"
             ],
             [
              0.2222222222222222,
              "#7201a8"
             ],
             [
              0.3333333333333333,
              "#9c179e"
             ],
             [
              0.4444444444444444,
              "#bd3786"
             ],
             [
              0.5555555555555556,
              "#d8576b"
             ],
             [
              0.6666666666666666,
              "#ed7953"
             ],
             [
              0.7777777777777778,
              "#fb9f3a"
             ],
             [
              0.8888888888888888,
              "#fdca26"
             ],
             [
              1,
              "#f0f921"
             ]
            ],
            "type": "histogram2d"
           }
          ],
          "histogram2dcontour": [
           {
            "colorbar": {
             "outlinewidth": 0,
             "ticks": ""
            },
            "colorscale": [
             [
              0,
              "#0d0887"
             ],
             [
              0.1111111111111111,
              "#46039f"
             ],
             [
              0.2222222222222222,
              "#7201a8"
             ],
             [
              0.3333333333333333,
              "#9c179e"
             ],
             [
              0.4444444444444444,
              "#bd3786"
             ],
             [
              0.5555555555555556,
              "#d8576b"
             ],
             [
              0.6666666666666666,
              "#ed7953"
             ],
             [
              0.7777777777777778,
              "#fb9f3a"
             ],
             [
              0.8888888888888888,
              "#fdca26"
             ],
             [
              1,
              "#f0f921"
             ]
            ],
            "type": "histogram2dcontour"
           }
          ],
          "mesh3d": [
           {
            "colorbar": {
             "outlinewidth": 0,
             "ticks": ""
            },
            "type": "mesh3d"
           }
          ],
          "parcoords": [
           {
            "line": {
             "colorbar": {
              "outlinewidth": 0,
              "ticks": ""
             }
            },
            "type": "parcoords"
           }
          ],
          "pie": [
           {
            "automargin": true,
            "type": "pie"
           }
          ],
          "scatter": [
           {
            "fillpattern": {
             "fillmode": "overlay",
             "size": 10,
             "solidity": 0.2
            },
            "type": "scatter"
           }
          ],
          "scatter3d": [
           {
            "line": {
             "colorbar": {
              "outlinewidth": 0,
              "ticks": ""
             }
            },
            "marker": {
             "colorbar": {
              "outlinewidth": 0,
              "ticks": ""
             }
            },
            "type": "scatter3d"
           }
          ],
          "scattercarpet": [
           {
            "marker": {
             "colorbar": {
              "outlinewidth": 0,
              "ticks": ""
             }
            },
            "type": "scattercarpet"
           }
          ],
          "scattergeo": [
           {
            "marker": {
             "colorbar": {
              "outlinewidth": 0,
              "ticks": ""
             }
            },
            "type": "scattergeo"
           }
          ],
          "scattergl": [
           {
            "marker": {
             "colorbar": {
              "outlinewidth": 0,
              "ticks": ""
             }
            },
            "type": "scattergl"
           }
          ],
          "scattermapbox": [
           {
            "marker": {
             "colorbar": {
              "outlinewidth": 0,
              "ticks": ""
             }
            },
            "type": "scattermapbox"
           }
          ],
          "scatterpolar": [
           {
            "marker": {
             "colorbar": {
              "outlinewidth": 0,
              "ticks": ""
             }
            },
            "type": "scatterpolar"
           }
          ],
          "scatterpolargl": [
           {
            "marker": {
             "colorbar": {
              "outlinewidth": 0,
              "ticks": ""
             }
            },
            "type": "scatterpolargl"
           }
          ],
          "scatterternary": [
           {
            "marker": {
             "colorbar": {
              "outlinewidth": 0,
              "ticks": ""
             }
            },
            "type": "scatterternary"
           }
          ],
          "surface": [
           {
            "colorbar": {
             "outlinewidth": 0,
             "ticks": ""
            },
            "colorscale": [
             [
              0,
              "#0d0887"
             ],
             [
              0.1111111111111111,
              "#46039f"
             ],
             [
              0.2222222222222222,
              "#7201a8"
             ],
             [
              0.3333333333333333,
              "#9c179e"
             ],
             [
              0.4444444444444444,
              "#bd3786"
             ],
             [
              0.5555555555555556,
              "#d8576b"
             ],
             [
              0.6666666666666666,
              "#ed7953"
             ],
             [
              0.7777777777777778,
              "#fb9f3a"
             ],
             [
              0.8888888888888888,
              "#fdca26"
             ],
             [
              1,
              "#f0f921"
             ]
            ],
            "type": "surface"
           }
          ],
          "table": [
           {
            "cells": {
             "fill": {
              "color": "#EBF0F8"
             },
             "line": {
              "color": "white"
             }
            },
            "header": {
             "fill": {
              "color": "#C8D4E3"
             },
             "line": {
              "color": "white"
             }
            },
            "type": "table"
           }
          ]
         },
         "layout": {
          "annotationdefaults": {
           "arrowcolor": "#2a3f5f",
           "arrowhead": 0,
           "arrowwidth": 1
          },
          "autotypenumbers": "strict",
          "coloraxis": {
           "colorbar": {
            "outlinewidth": 0,
            "ticks": ""
           }
          },
          "colorscale": {
           "diverging": [
            [
             0,
             "#8e0152"
            ],
            [
             0.1,
             "#c51b7d"
            ],
            [
             0.2,
             "#de77ae"
            ],
            [
             0.3,
             "#f1b6da"
            ],
            [
             0.4,
             "#fde0ef"
            ],
            [
             0.5,
             "#f7f7f7"
            ],
            [
             0.6,
             "#e6f5d0"
            ],
            [
             0.7,
             "#b8e186"
            ],
            [
             0.8,
             "#7fbc41"
            ],
            [
             0.9,
             "#4d9221"
            ],
            [
             1,
             "#276419"
            ]
           ],
           "sequential": [
            [
             0,
             "#0d0887"
            ],
            [
             0.1111111111111111,
             "#46039f"
            ],
            [
             0.2222222222222222,
             "#7201a8"
            ],
            [
             0.3333333333333333,
             "#9c179e"
            ],
            [
             0.4444444444444444,
             "#bd3786"
            ],
            [
             0.5555555555555556,
             "#d8576b"
            ],
            [
             0.6666666666666666,
             "#ed7953"
            ],
            [
             0.7777777777777778,
             "#fb9f3a"
            ],
            [
             0.8888888888888888,
             "#fdca26"
            ],
            [
             1,
             "#f0f921"
            ]
           ],
           "sequentialminus": [
            [
             0,
             "#0d0887"
            ],
            [
             0.1111111111111111,
             "#46039f"
            ],
            [
             0.2222222222222222,
             "#7201a8"
            ],
            [
             0.3333333333333333,
             "#9c179e"
            ],
            [
             0.4444444444444444,
             "#bd3786"
            ],
            [
             0.5555555555555556,
             "#d8576b"
            ],
            [
             0.6666666666666666,
             "#ed7953"
            ],
            [
             0.7777777777777778,
             "#fb9f3a"
            ],
            [
             0.8888888888888888,
             "#fdca26"
            ],
            [
             1,
             "#f0f921"
            ]
           ]
          },
          "colorway": [
           "#636efa",
           "#EF553B",
           "#00cc96",
           "#ab63fa",
           "#FFA15A",
           "#19d3f3",
           "#FF6692",
           "#B6E880",
           "#FF97FF",
           "#FECB52"
          ],
          "font": {
           "color": "#2a3f5f"
          },
          "geo": {
           "bgcolor": "white",
           "lakecolor": "white",
           "landcolor": "#E5ECF6",
           "showlakes": true,
           "showland": true,
           "subunitcolor": "white"
          },
          "hoverlabel": {
           "align": "left"
          },
          "hovermode": "closest",
          "mapbox": {
           "style": "light"
          },
          "paper_bgcolor": "white",
          "plot_bgcolor": "#E5ECF6",
          "polar": {
           "angularaxis": {
            "gridcolor": "white",
            "linecolor": "white",
            "ticks": ""
           },
           "bgcolor": "#E5ECF6",
           "radialaxis": {
            "gridcolor": "white",
            "linecolor": "white",
            "ticks": ""
           }
          },
          "scene": {
           "xaxis": {
            "backgroundcolor": "#E5ECF6",
            "gridcolor": "white",
            "gridwidth": 2,
            "linecolor": "white",
            "showbackground": true,
            "ticks": "",
            "zerolinecolor": "white"
           },
           "yaxis": {
            "backgroundcolor": "#E5ECF6",
            "gridcolor": "white",
            "gridwidth": 2,
            "linecolor": "white",
            "showbackground": true,
            "ticks": "",
            "zerolinecolor": "white"
           },
           "zaxis": {
            "backgroundcolor": "#E5ECF6",
            "gridcolor": "white",
            "gridwidth": 2,
            "linecolor": "white",
            "showbackground": true,
            "ticks": "",
            "zerolinecolor": "white"
           }
          },
          "shapedefaults": {
           "line": {
            "color": "#2a3f5f"
           }
          },
          "ternary": {
           "aaxis": {
            "gridcolor": "white",
            "linecolor": "white",
            "ticks": ""
           },
           "baxis": {
            "gridcolor": "white",
            "linecolor": "white",
            "ticks": ""
           },
           "bgcolor": "#E5ECF6",
           "caxis": {
            "gridcolor": "white",
            "linecolor": "white",
            "ticks": ""
           }
          },
          "title": {
           "x": 0.05
          },
          "xaxis": {
           "automargin": true,
           "gridcolor": "white",
           "linecolor": "white",
           "ticks": "",
           "title": {
            "standoff": 15
           },
           "zerolinecolor": "white",
           "zerolinewidth": 2
          },
          "yaxis": {
           "automargin": true,
           "gridcolor": "white",
           "linecolor": "white",
           "ticks": "",
           "title": {
            "standoff": 15
           },
           "zerolinecolor": "white",
           "zerolinewidth": 2
          }
         }
        },
        "title": {
         "text": "Inflatie per land"
        },
        "xaxis": {
         "title": {
          "text": "Country"
         },
         "type": "category"
        },
        "yaxis": {
         "ticktext": [
          "0,3",
          "0,3",
          "0,3",
          "0,3",
          "0,1",
          "0,2",
          "0,1",
          "0,1",
          "0,1",
          "0,2"
         ],
         "tickvals": [
          0.2690557539463,
          0.33631756901741,
          0.32572621107101,
          0.28152891993523,
          0.087440684437752,
          0.15557900071144,
          0.053036946803331,
          0.079021044075489,
          0.12640684843063,
          0.23707248270512
         ],
         "title": {
          "text": "Inflatie percentage ten opzichte van 2015"
         }
        }
       }
      },
      "text/html": [
       "<div>                            <div id=\"5d570b00-8414-45fe-b57e-628b07854e8e\" class=\"plotly-graph-div\" style=\"height:400px; width:100%;\"></div>            <script type=\"text/javascript\">                require([\"plotly\"], function(Plotly) {                    window.PLOTLYENV=window.PLOTLYENV || {};                                    if (document.getElementById(\"5d570b00-8414-45fe-b57e-628b07854e8e\")) {                    Plotly.newPlot(                        \"5d570b00-8414-45fe-b57e-628b07854e8e\",                        [{\"marker\":{\"color\":\"rgb(102,194,165)\"},\"name\":\"2020\",\"x\":[\"AUS\",\"AUS\",\"AUT\",\"AUT\",\"BEL\",\"BEL\",\"CAN\",\"CAN\",\"CZE\",\"CZE\",\"DNK\",\"DNK\",\"FIN\",\"FIN\",\"FRA\",\"FRA\",\"DEU\",\"DEU\",\"ITA\",\"ITA\",\"JPN\",\"JPN\",\"MEX\",\"MEX\",\"NLD\",\"NLD\",\"NZL\",\"NZL\",\"NOR\",\"NOR\",\"PRT\",\"PRT\",\"ESP\",\"ESP\",\"CHE\",\"CHE\",\"GBR\",\"GBR\",\"USA\",\"USA\",\"BRA\",\"CHL\",\"CHL\",\"CHN\",\"EST\",\"EST\",\"IND\",\"ZAF\",\"ZAF\",\"OECD\",\"OECD\",\"G-7\",\"OECDE\",\"G-7\",\"OECDE\",\"COL\",\"SAU\",\"EA19\",\"EA19\",\"ZAF\",\"FRA\",\"MEX\",\"OECDE\",\"PRT\",\"CAN\",\"ITA\",\"CHL\",\"CHE\",\"EA19\",\"DEU\",\"NOR\",\"BEL\",\"FIN\",\"AUT\",\"USA\",\"OECD\",\"NZL\",\"DNK\",\"GBR\",\"AUS\",\"NLD\",\"EST\",\"ESP\",\"CZE\",\"JPN\",\"G-7\",\"COL\",\"COL\",\"ARG\",\"CRI\",\"CRI\",\"G-20\",\"CRI\",\"SAU\",\"ARG\",\"EU27_2020\",\"EU27_2020\",\"EU27_2020\"],\"y\":[9.320118,0.8469055,2.331635,1.381909,2.881715,0.7407918,2.400181,0.7169997,4.538125,3.161295,0.6386206,0.420712,1.66011,0.2905546,2.021613,0.4764988,2.140428,0.1448705,1.400448,-0.1377076,1.197302,-0.01666667,6.621487,3.396834,1.889179,1.27246,3.180124,1.714562,3.261978,1.286585,2.087344,-0.01243833,2.354986,-0.322753,0.09248759,-0.725875,0.7,1.0,3.50503,1.233584,3.211768,6.739003,3.045491,2.5,2.139228,-0.4445311,5.561349,4.388361,3.210036,3.417091,1.346594,2.681905,3.014454,0.8373157,1.59706,2.52662,3.445458,2.0,0.3,3.359348,0.8851095,3.200822,2.046867,-0.03927258,1.187,0.4921978,2.286143,-0.3414941,0.7,0.287277,2.665058,1.479317,0.504051,1.899783,1.702817,1.693894,2.223668,0.9559481,1.5,-0.004077226,2.125606,0.1487379,0.5682508,3.631627,0.1084327,1.246457,5.551534,2.247486,42.01509,0.7249115,1.310271,2.694649,0.4831476,9.012465,46.96305,2.5,0.7,1.1],\"type\":\"bar\"},{\"marker\":{\"color\":\"rgb(252,141,98)\"},\"name\":\"2022\",\"x\":[\"AUS\",\"AUS\",\"AUT\",\"AUT\",\"BEL\",\"BEL\",\"CAN\",\"CAN\",\"CZE\",\"CZE\",\"DNK\",\"DNK\",\"FIN\",\"FIN\",\"FRA\",\"FRA\",\"DEU\",\"DEU\",\"ITA\",\"ITA\",\"JPN\",\"JPN\",\"MEX\",\"MEX\",\"NLD\",\"NLD\",\"NZL\",\"NZL\",\"NOR\",\"NOR\",\"PRT\",\"PRT\",\"ESP\",\"ESP\",\"CHE\",\"CHE\",\"GBR\",\"GBR\",\"USA\",\"USA\",\"BRA\",\"CHL\",\"CHL\",\"EST\",\"EST\",\"IND\",\"ZAF\",\"ZAF\",\"OECD\",\"OECD\",\"G-7\",\"OECDE\",\"G-7\",\"OECDE\",\"COL\",\"SAU\",\"EA19\",\"EA19\",\"ZAF\",\"FRA\",\"MEX\",\"OECDE\",\"PRT\",\"CAN\",\"ITA\",\"CHL\",\"CHE\",\"EA19\",\"DEU\",\"NOR\",\"BEL\",\"FIN\",\"AUT\",\"USA\",\"OECD\",\"NZL\",\"DNK\",\"GBR\",\"AUS\",\"NLD\",\"EST\",\"ESP\",\"CZE\",\"JPN\",\"G-7\",\"COL\",\"COL\",\"ARG\",\"G-20\",\"SAU\",\"ARG\",\"EU27_2020\",\"EU27_2020\",\"EU27_2020\"],\"y\":[8.1667,6.594097,10.74824,8.54687,8.794951,9.597511,9.762547,6.802801,16.6946,15.10017,11.5142,7.696567,10.50721,7.123507,7.277634,5.222367,12.56164,6.872574,9.141557,8.20129,4.901634,2.508333,13.26198,7.896276,10.74305,10.00121,8.660672,7.172225,6.495117,5.764123,12.99107,7.832691,11.63969,8.390576,1.658954,2.835028,10.9,7.9,11.43888,8.0028,9.280107,17.72102,11.64387,19.91215,19.39826,5.90043,9.284925,7.039727,13.15614,9.55068,10.40229,17.55079,7.142418,13.78405,10.17724,2.474074,10.5,8.4,4.556124,2.779273,5.998022,9.311513,5.616037,5.079893,2.932897,8.951247,1.715623,4.0,3.92777,3.612885,4.569578,4.146388,5.489844,6.150387,6.751289,5.993085,4.025807,5.3,5.545571,4.249225,9.726146,3.69075,12.19632,0.3189525,4.899688,24.96117,6.480474,72.43076,8.563109,3.720494,74.63056,11.9,9.2,4.7],\"type\":\"bar\"}],                        {\"height\":400,\"xaxis\":{\"type\":\"category\",\"title\":{\"text\":\"Country\"}},\"yaxis\":{\"ticktext\":[\"0,3\",\"0,3\",\"0,3\",\"0,3\",\"0,1\",\"0,2\",\"0,1\",\"0,1\",\"0,1\",\"0,2\"],\"tickvals\":[0.2690557539463,0.33631756901741,0.32572621107101,0.28152891993523,0.087440684437752,0.15557900071144,0.053036946803331,0.079021044075489,0.12640684843063,0.23707248270512],\"title\":{\"text\":\"Inflatie percentage ten opzichte van 2015\"}},\"template\":{\"data\":{\"histogram2dcontour\":[{\"type\":\"histogram2dcontour\",\"colorbar\":{\"outlinewidth\":0,\"ticks\":\"\"},\"colorscale\":[[0.0,\"#0d0887\"],[0.1111111111111111,\"#46039f\"],[0.2222222222222222,\"#7201a8\"],[0.3333333333333333,\"#9c179e\"],[0.4444444444444444,\"#bd3786\"],[0.5555555555555556,\"#d8576b\"],[0.6666666666666666,\"#ed7953\"],[0.7777777777777778,\"#fb9f3a\"],[0.8888888888888888,\"#fdca26\"],[1.0,\"#f0f921\"]]}],\"choropleth\":[{\"type\":\"choropleth\",\"colorbar\":{\"outlinewidth\":0,\"ticks\":\"\"}}],\"histogram2d\":[{\"type\":\"histogram2d\",\"colorbar\":{\"outlinewidth\":0,\"ticks\":\"\"},\"colorscale\":[[0.0,\"#0d0887\"],[0.1111111111111111,\"#46039f\"],[0.2222222222222222,\"#7201a8\"],[0.3333333333333333,\"#9c179e\"],[0.4444444444444444,\"#bd3786\"],[0.5555555555555556,\"#d8576b\"],[0.6666666666666666,\"#ed7953\"],[0.7777777777777778,\"#fb9f3a\"],[0.8888888888888888,\"#fdca26\"],[1.0,\"#f0f921\"]]}],\"heatmap\":[{\"type\":\"heatmap\",\"colorbar\":{\"outlinewidth\":0,\"ticks\":\"\"},\"colorscale\":[[0.0,\"#0d0887\"],[0.1111111111111111,\"#46039f\"],[0.2222222222222222,\"#7201a8\"],[0.3333333333333333,\"#9c179e\"],[0.4444444444444444,\"#bd3786\"],[0.5555555555555556,\"#d8576b\"],[0.6666666666666666,\"#ed7953\"],[0.7777777777777778,\"#fb9f3a\"],[0.8888888888888888,\"#fdca26\"],[1.0,\"#f0f921\"]]}],\"heatmapgl\":[{\"type\":\"heatmapgl\",\"colorbar\":{\"outlinewidth\":0,\"ticks\":\"\"},\"colorscale\":[[0.0,\"#0d0887\"],[0.1111111111111111,\"#46039f\"],[0.2222222222222222,\"#7201a8\"],[0.3333333333333333,\"#9c179e\"],[0.4444444444444444,\"#bd3786\"],[0.5555555555555556,\"#d8576b\"],[0.6666666666666666,\"#ed7953\"],[0.7777777777777778,\"#fb9f3a\"],[0.8888888888888888,\"#fdca26\"],[1.0,\"#f0f921\"]]}],\"contourcarpet\":[{\"type\":\"contourcarpet\",\"colorbar\":{\"outlinewidth\":0,\"ticks\":\"\"}}],\"contour\":[{\"type\":\"contour\",\"colorbar\":{\"outlinewidth\":0,\"ticks\":\"\"},\"colorscale\":[[0.0,\"#0d0887\"],[0.1111111111111111,\"#46039f\"],[0.2222222222222222,\"#7201a8\"],[0.3333333333333333,\"#9c179e\"],[0.4444444444444444,\"#bd3786\"],[0.5555555555555556,\"#d8576b\"],[0.6666666666666666,\"#ed7953\"],[0.7777777777777778,\"#fb9f3a\"],[0.8888888888888888,\"#fdca26\"],[1.0,\"#f0f921\"]]}],\"surface\":[{\"type\":\"surface\",\"colorbar\":{\"outlinewidth\":0,\"ticks\":\"\"},\"colorscale\":[[0.0,\"#0d0887\"],[0.1111111111111111,\"#46039f\"],[0.2222222222222222,\"#7201a8\"],[0.3333333333333333,\"#9c179e\"],[0.4444444444444444,\"#bd3786\"],[0.5555555555555556,\"#d8576b\"],[0.6666666666666666,\"#ed7953\"],[0.7777777777777778,\"#fb9f3a\"],[0.8888888888888888,\"#fdca26\"],[1.0,\"#f0f921\"]]}],\"mesh3d\":[{\"type\":\"mesh3d\",\"colorbar\":{\"outlinewidth\":0,\"ticks\":\"\"}}],\"scatter\":[{\"fillpattern\":{\"fillmode\":\"overlay\",\"size\":10,\"solidity\":0.2},\"type\":\"scatter\"}],\"parcoords\":[{\"type\":\"parcoords\",\"line\":{\"colorbar\":{\"outlinewidth\":0,\"ticks\":\"\"}}}],\"scatterpolargl\":[{\"type\":\"scatterpolargl\",\"marker\":{\"colorbar\":{\"outlinewidth\":0,\"ticks\":\"\"}}}],\"bar\":[{\"error_x\":{\"color\":\"#2a3f5f\"},\"error_y\":{\"color\":\"#2a3f5f\"},\"marker\":{\"line\":{\"color\":\"#E5ECF6\",\"width\":0.5},\"pattern\":{\"fillmode\":\"overlay\",\"size\":10,\"solidity\":0.2}},\"type\":\"bar\"}],\"scattergeo\":[{\"type\":\"scattergeo\",\"marker\":{\"colorbar\":{\"outlinewidth\":0,\"ticks\":\"\"}}}],\"scatterpolar\":[{\"type\":\"scatterpolar\",\"marker\":{\"colorbar\":{\"outlinewidth\":0,\"ticks\":\"\"}}}],\"histogram\":[{\"marker\":{\"pattern\":{\"fillmode\":\"overlay\",\"size\":10,\"solidity\":0.2}},\"type\":\"histogram\"}],\"scattergl\":[{\"type\":\"scattergl\",\"marker\":{\"colorbar\":{\"outlinewidth\":0,\"ticks\":\"\"}}}],\"scatter3d\":[{\"type\":\"scatter3d\",\"line\":{\"colorbar\":{\"outlinewidth\":0,\"ticks\":\"\"}},\"marker\":{\"colorbar\":{\"outlinewidth\":0,\"ticks\":\"\"}}}],\"scattermapbox\":[{\"type\":\"scattermapbox\",\"marker\":{\"colorbar\":{\"outlinewidth\":0,\"ticks\":\"\"}}}],\"scatterternary\":[{\"type\":\"scatterternary\",\"marker\":{\"colorbar\":{\"outlinewidth\":0,\"ticks\":\"\"}}}],\"scattercarpet\":[{\"type\":\"scattercarpet\",\"marker\":{\"colorbar\":{\"outlinewidth\":0,\"ticks\":\"\"}}}],\"carpet\":[{\"aaxis\":{\"endlinecolor\":\"#2a3f5f\",\"gridcolor\":\"white\",\"linecolor\":\"white\",\"minorgridcolor\":\"white\",\"startlinecolor\":\"#2a3f5f\"},\"baxis\":{\"endlinecolor\":\"#2a3f5f\",\"gridcolor\":\"white\",\"linecolor\":\"white\",\"minorgridcolor\":\"white\",\"startlinecolor\":\"#2a3f5f\"},\"type\":\"carpet\"}],\"table\":[{\"cells\":{\"fill\":{\"color\":\"#EBF0F8\"},\"line\":{\"color\":\"white\"}},\"header\":{\"fill\":{\"color\":\"#C8D4E3\"},\"line\":{\"color\":\"white\"}},\"type\":\"table\"}],\"barpolar\":[{\"marker\":{\"line\":{\"color\":\"#E5ECF6\",\"width\":0.5},\"pattern\":{\"fillmode\":\"overlay\",\"size\":10,\"solidity\":0.2}},\"type\":\"barpolar\"}],\"pie\":[{\"automargin\":true,\"type\":\"pie\"}]},\"layout\":{\"autotypenumbers\":\"strict\",\"colorway\":[\"#636efa\",\"#EF553B\",\"#00cc96\",\"#ab63fa\",\"#FFA15A\",\"#19d3f3\",\"#FF6692\",\"#B6E880\",\"#FF97FF\",\"#FECB52\"],\"font\":{\"color\":\"#2a3f5f\"},\"hovermode\":\"closest\",\"hoverlabel\":{\"align\":\"left\"},\"paper_bgcolor\":\"white\",\"plot_bgcolor\":\"#E5ECF6\",\"polar\":{\"bgcolor\":\"#E5ECF6\",\"angularaxis\":{\"gridcolor\":\"white\",\"linecolor\":\"white\",\"ticks\":\"\"},\"radialaxis\":{\"gridcolor\":\"white\",\"linecolor\":\"white\",\"ticks\":\"\"}},\"ternary\":{\"bgcolor\":\"#E5ECF6\",\"aaxis\":{\"gridcolor\":\"white\",\"linecolor\":\"white\",\"ticks\":\"\"},\"baxis\":{\"gridcolor\":\"white\",\"linecolor\":\"white\",\"ticks\":\"\"},\"caxis\":{\"gridcolor\":\"white\",\"linecolor\":\"white\",\"ticks\":\"\"}},\"coloraxis\":{\"colorbar\":{\"outlinewidth\":0,\"ticks\":\"\"}},\"colorscale\":{\"sequential\":[[0.0,\"#0d0887\"],[0.1111111111111111,\"#46039f\"],[0.2222222222222222,\"#7201a8\"],[0.3333333333333333,\"#9c179e\"],[0.4444444444444444,\"#bd3786\"],[0.5555555555555556,\"#d8576b\"],[0.6666666666666666,\"#ed7953\"],[0.7777777777777778,\"#fb9f3a\"],[0.8888888888888888,\"#fdca26\"],[1.0,\"#f0f921\"]],\"sequentialminus\":[[0.0,\"#0d0887\"],[0.1111111111111111,\"#46039f\"],[0.2222222222222222,\"#7201a8\"],[0.3333333333333333,\"#9c179e\"],[0.4444444444444444,\"#bd3786\"],[0.5555555555555556,\"#d8576b\"],[0.6666666666666666,\"#ed7953\"],[0.7777777777777778,\"#fb9f3a\"],[0.8888888888888888,\"#fdca26\"],[1.0,\"#f0f921\"]],\"diverging\":[[0,\"#8e0152\"],[0.1,\"#c51b7d\"],[0.2,\"#de77ae\"],[0.3,\"#f1b6da\"],[0.4,\"#fde0ef\"],[0.5,\"#f7f7f7\"],[0.6,\"#e6f5d0\"],[0.7,\"#b8e186\"],[0.8,\"#7fbc41\"],[0.9,\"#4d9221\"],[1,\"#276419\"]]},\"xaxis\":{\"gridcolor\":\"white\",\"linecolor\":\"white\",\"ticks\":\"\",\"title\":{\"standoff\":15},\"zerolinecolor\":\"white\",\"automargin\":true,\"zerolinewidth\":2},\"yaxis\":{\"gridcolor\":\"white\",\"linecolor\":\"white\",\"ticks\":\"\",\"title\":{\"standoff\":15},\"zerolinecolor\":\"white\",\"automargin\":true,\"zerolinewidth\":2},\"scene\":{\"xaxis\":{\"backgroundcolor\":\"#E5ECF6\",\"gridcolor\":\"white\",\"linecolor\":\"white\",\"showbackground\":true,\"ticks\":\"\",\"zerolinecolor\":\"white\",\"gridwidth\":2},\"yaxis\":{\"backgroundcolor\":\"#E5ECF6\",\"gridcolor\":\"white\",\"linecolor\":\"white\",\"showbackground\":true,\"ticks\":\"\",\"zerolinecolor\":\"white\",\"gridwidth\":2},\"zaxis\":{\"backgroundcolor\":\"#E5ECF6\",\"gridcolor\":\"white\",\"linecolor\":\"white\",\"showbackground\":true,\"ticks\":\"\",\"zerolinecolor\":\"white\",\"gridwidth\":2}},\"shapedefaults\":{\"line\":{\"color\":\"#2a3f5f\"}},\"annotationdefaults\":{\"arrowcolor\":\"#2a3f5f\",\"arrowhead\":0,\"arrowwidth\":1},\"geo\":{\"bgcolor\":\"white\",\"landcolor\":\"#E5ECF6\",\"subunitcolor\":\"white\",\"showland\":true,\"showlakes\":true,\"lakecolor\":\"white\"},\"title\":{\"x\":0.05},\"mapbox\":{\"style\":\"light\"}}},\"title\":{\"text\":\"Inflatie per land\"}},                        {\"responsive\": true}                    ).then(function(){\n",
       "                            \n",
       "var gd = document.getElementById('5d570b00-8414-45fe-b57e-628b07854e8e');\n",
       "var x = new MutationObserver(function (mutations, observer) {{\n",
       "        var display = window.getComputedStyle(gd).display;\n",
       "        if (!display || display === 'none') {{\n",
       "            console.log([gd, 'removed!']);\n",
       "            Plotly.purge(gd);\n",
       "            observer.disconnect();\n",
       "        }}\n",
       "}});\n",
       "\n",
       "// Listen for the removal of the full notebook cells\n",
       "var notebookContainer = gd.closest('#notebook-container');\n",
       "if (notebookContainer) {{\n",
       "    x.observe(notebookContainer, {childList: true});\n",
       "}}\n",
       "\n",
       "// Listen for the clearing of the current output cell\n",
       "var outputEl = gd.closest('.output');\n",
       "if (outputEl) {{\n",
       "    x.observe(outputEl, {childList: true});\n",
       "}}\n",
       "\n",
       "                        })                };                });            </script>        </div>"
      ]
     },
     "metadata": {},
     "output_type": "display_data"
    }
   ],
   "source": [
    "# Functie om de aslabels handmatig te formatteren\n",
    "def custom_tickformat(value):\n",
    "    return f\"{value:.1f}\".replace('.', ',')\n",
    "\n",
    "# Define the colors (ChatGPT)\n",
    "colors = ['rgb(102,194,165)', 'rgb(252,141,98)', 'rgb(141,160,203)']\n",
    "\n",
    "# creeer de layout\n",
    "layout = go.Layout(\n",
    "    xaxis=go.layout.XAxis(\n",
    "        type='category' # het type van de X as is categorisch\n",
    "    ),\n",
    "    yaxis=go.layout.YAxis(\n",
    "        tickvals=fig.data[0].y,  # Gebruik de y-waarden als aslabels\n",
    "        ticktext=[custom_tickformat(value) for value in fig.data[0].y],  # Formatteer de aslabels\n",
    "    ),\n",
    "    height=400\n",
    ")\n",
    "\n",
    "# defineer de data\n",
    "year2020 = go.Bar(\n",
    "    x=inflation2020['LOCATION'],\n",
    "    y=inflation2020['Value'], # by year 2020\n",
    "    name='2020',\n",
    "    marker=dict(color=colors[0]) #ChatGPT \n",
    ")\n",
    "year2022 = go.Bar(\n",
    "    x=inflation2022['LOCATION'],\n",
    "    y=inflation2022['Value'],\n",
    "    name='2022',\n",
    "    marker=dict(color=colors[1]) #ChatGPT\n",
    ")\n",
    "\n",
    "# creeer het figuur\n",
    "data = [year2020, year2022]\n",
    "fig = go.Figure(data=data, layout=layout)\n",
    "\n",
    "# labels\n",
    "fig.update_layout(\n",
    "    title=\"Inflatie per land\",\n",
    "    xaxis_title=\"Country\",\n",
    "    yaxis_title=\"Inflatie percentage ten opzichte van 2015\")\n",
    "    \n",
    "fig.show()"
   ]
  },
  {
   "cell_type": "markdown",
   "id": "5ca68f8f",
   "metadata": {},
   "source": [
    "### Happiness vs inflation in different countries"
   ]
  },
  {
   "cell_type": "code",
   "execution_count": 46,
   "id": "e6f1679b",
   "metadata": {},
   "outputs": [],
   "source": [
    "inflation2020 = inflation2020[inflation2020[\"SUBJECT\"]==\"TOT\"]\n",
    "inflation2020 = inflation2020[inflation2020[\"MEASURE\"]==\"IDX2015\"]\n",
    "\n",
    "inflation2022 = inflation2022[inflation2022[\"SUBJECT\"]==\"TOT\"]\n",
    "inflation2022 = inflation2022[inflation2022[\"MEASURE\"]==\"IDX2015\"]"
   ]
  },
  {
   "cell_type": "code",
   "execution_count": 47,
   "id": "240a344a",
   "metadata": {},
   "outputs": [
    {
     "ename": "ValueError",
     "evalue": "x and y must be the same size",
     "output_type": "error",
     "traceback": [
      "\u001b[0;31m---------------------------------------------------------------------------\u001b[0m",
      "\u001b[0;31mValueError\u001b[0m                                Traceback (most recent call last)",
      "Cell \u001b[0;32mIn[47], line 6\u001b[0m\n\u001b[1;32m      3\u001b[0m inflation2022[\u001b[38;5;124m\"\u001b[39m\u001b[38;5;124mValue\u001b[39m\u001b[38;5;124m\"\u001b[39m] \u001b[38;5;241m=\u001b[39m inflation2022[\u001b[38;5;124m\"\u001b[39m\u001b[38;5;124mValue\u001b[39m\u001b[38;5;124m\"\u001b[39m] \u001b[38;5;241m-\u001b[39m \u001b[38;5;241m100\u001b[39m\n\u001b[1;32m      5\u001b[0m \u001b[38;5;66;03m# Plot de punten in de grafiek\u001b[39;00m\n\u001b[0;32m----> 6\u001b[0m \u001b[43mplt\u001b[49m\u001b[38;5;241;43m.\u001b[39;49m\u001b[43mscatter\u001b[49m\u001b[43m(\u001b[49m\u001b[43minflation2020\u001b[49m\u001b[43m[\u001b[49m\u001b[38;5;124;43m\"\u001b[39;49m\u001b[38;5;124;43mValue\u001b[39;49m\u001b[38;5;124;43m\"\u001b[39;49m\u001b[43m]\u001b[49m\u001b[43m,\u001b[49m\u001b[43m \u001b[49m\u001b[43mhappiness_2020\u001b[49m\u001b[43m[\u001b[49m\u001b[38;5;124;43m\"\u001b[39;49m\u001b[38;5;124;43mHappiness score\u001b[39;49m\u001b[38;5;124;43m\"\u001b[39;49m\u001b[43m]\u001b[49m\u001b[43m,\u001b[49m\u001b[43m \u001b[49m\u001b[43mlabel\u001b[49m\u001b[38;5;241;43m=\u001b[39;49m\u001b[38;5;124;43m\"\u001b[39;49m\u001b[38;5;124;43m2020\u001b[39;49m\u001b[38;5;124;43m\"\u001b[39;49m\u001b[43m)\u001b[49m\n\u001b[1;32m      7\u001b[0m plt\u001b[38;5;241m.\u001b[39mscatter(inflation2022[\u001b[38;5;124m\"\u001b[39m\u001b[38;5;124mValue\u001b[39m\u001b[38;5;124m\"\u001b[39m], happiness_2022[\u001b[38;5;124m\"\u001b[39m\u001b[38;5;124mHappiness score\u001b[39m\u001b[38;5;124m\"\u001b[39m], label\u001b[38;5;241m=\u001b[39m\u001b[38;5;124m\"\u001b[39m\u001b[38;5;124m2022\u001b[39m\u001b[38;5;124m\"\u001b[39m)\n\u001b[1;32m      9\u001b[0m \u001b[38;5;66;03m# Geef labels aan de assen\u001b[39;00m\n",
      "File \u001b[0;32m~/anaconda3/lib/python3.10/site-packages/matplotlib/pyplot.py:2835\u001b[0m, in \u001b[0;36mscatter\u001b[0;34m(x, y, s, c, marker, cmap, norm, vmin, vmax, alpha, linewidths, edgecolors, plotnonfinite, data, **kwargs)\u001b[0m\n\u001b[1;32m   2830\u001b[0m \u001b[38;5;129m@_copy_docstring_and_deprecators\u001b[39m(Axes\u001b[38;5;241m.\u001b[39mscatter)\n\u001b[1;32m   2831\u001b[0m \u001b[38;5;28;01mdef\u001b[39;00m \u001b[38;5;21mscatter\u001b[39m(\n\u001b[1;32m   2832\u001b[0m         x, y, s\u001b[38;5;241m=\u001b[39m\u001b[38;5;28;01mNone\u001b[39;00m, c\u001b[38;5;241m=\u001b[39m\u001b[38;5;28;01mNone\u001b[39;00m, marker\u001b[38;5;241m=\u001b[39m\u001b[38;5;28;01mNone\u001b[39;00m, cmap\u001b[38;5;241m=\u001b[39m\u001b[38;5;28;01mNone\u001b[39;00m, norm\u001b[38;5;241m=\u001b[39m\u001b[38;5;28;01mNone\u001b[39;00m,\n\u001b[1;32m   2833\u001b[0m         vmin\u001b[38;5;241m=\u001b[39m\u001b[38;5;28;01mNone\u001b[39;00m, vmax\u001b[38;5;241m=\u001b[39m\u001b[38;5;28;01mNone\u001b[39;00m, alpha\u001b[38;5;241m=\u001b[39m\u001b[38;5;28;01mNone\u001b[39;00m, linewidths\u001b[38;5;241m=\u001b[39m\u001b[38;5;28;01mNone\u001b[39;00m, \u001b[38;5;241m*\u001b[39m,\n\u001b[1;32m   2834\u001b[0m         edgecolors\u001b[38;5;241m=\u001b[39m\u001b[38;5;28;01mNone\u001b[39;00m, plotnonfinite\u001b[38;5;241m=\u001b[39m\u001b[38;5;28;01mFalse\u001b[39;00m, data\u001b[38;5;241m=\u001b[39m\u001b[38;5;28;01mNone\u001b[39;00m, \u001b[38;5;241m*\u001b[39m\u001b[38;5;241m*\u001b[39mkwargs):\n\u001b[0;32m-> 2835\u001b[0m     __ret \u001b[38;5;241m=\u001b[39m \u001b[43mgca\u001b[49m\u001b[43m(\u001b[49m\u001b[43m)\u001b[49m\u001b[38;5;241;43m.\u001b[39;49m\u001b[43mscatter\u001b[49m\u001b[43m(\u001b[49m\n\u001b[1;32m   2836\u001b[0m \u001b[43m        \u001b[49m\u001b[43mx\u001b[49m\u001b[43m,\u001b[49m\u001b[43m \u001b[49m\u001b[43my\u001b[49m\u001b[43m,\u001b[49m\u001b[43m \u001b[49m\u001b[43ms\u001b[49m\u001b[38;5;241;43m=\u001b[39;49m\u001b[43ms\u001b[49m\u001b[43m,\u001b[49m\u001b[43m \u001b[49m\u001b[43mc\u001b[49m\u001b[38;5;241;43m=\u001b[39;49m\u001b[43mc\u001b[49m\u001b[43m,\u001b[49m\u001b[43m \u001b[49m\u001b[43mmarker\u001b[49m\u001b[38;5;241;43m=\u001b[39;49m\u001b[43mmarker\u001b[49m\u001b[43m,\u001b[49m\u001b[43m \u001b[49m\u001b[43mcmap\u001b[49m\u001b[38;5;241;43m=\u001b[39;49m\u001b[43mcmap\u001b[49m\u001b[43m,\u001b[49m\u001b[43m \u001b[49m\u001b[43mnorm\u001b[49m\u001b[38;5;241;43m=\u001b[39;49m\u001b[43mnorm\u001b[49m\u001b[43m,\u001b[49m\n\u001b[1;32m   2837\u001b[0m \u001b[43m        \u001b[49m\u001b[43mvmin\u001b[49m\u001b[38;5;241;43m=\u001b[39;49m\u001b[43mvmin\u001b[49m\u001b[43m,\u001b[49m\u001b[43m \u001b[49m\u001b[43mvmax\u001b[49m\u001b[38;5;241;43m=\u001b[39;49m\u001b[43mvmax\u001b[49m\u001b[43m,\u001b[49m\u001b[43m \u001b[49m\u001b[43malpha\u001b[49m\u001b[38;5;241;43m=\u001b[39;49m\u001b[43malpha\u001b[49m\u001b[43m,\u001b[49m\u001b[43m \u001b[49m\u001b[43mlinewidths\u001b[49m\u001b[38;5;241;43m=\u001b[39;49m\u001b[43mlinewidths\u001b[49m\u001b[43m,\u001b[49m\n\u001b[1;32m   2838\u001b[0m \u001b[43m        \u001b[49m\u001b[43medgecolors\u001b[49m\u001b[38;5;241;43m=\u001b[39;49m\u001b[43medgecolors\u001b[49m\u001b[43m,\u001b[49m\u001b[43m \u001b[49m\u001b[43mplotnonfinite\u001b[49m\u001b[38;5;241;43m=\u001b[39;49m\u001b[43mplotnonfinite\u001b[49m\u001b[43m,\u001b[49m\n\u001b[1;32m   2839\u001b[0m \u001b[43m        \u001b[49m\u001b[38;5;241;43m*\u001b[39;49m\u001b[38;5;241;43m*\u001b[39;49m\u001b[43m(\u001b[49m\u001b[43m{\u001b[49m\u001b[38;5;124;43m\"\u001b[39;49m\u001b[38;5;124;43mdata\u001b[39;49m\u001b[38;5;124;43m\"\u001b[39;49m\u001b[43m:\u001b[49m\u001b[43m \u001b[49m\u001b[43mdata\u001b[49m\u001b[43m}\u001b[49m\u001b[43m \u001b[49m\u001b[38;5;28;43;01mif\u001b[39;49;00m\u001b[43m \u001b[49m\u001b[43mdata\u001b[49m\u001b[43m \u001b[49m\u001b[38;5;129;43;01mis\u001b[39;49;00m\u001b[43m \u001b[49m\u001b[38;5;129;43;01mnot\u001b[39;49;00m\u001b[43m \u001b[49m\u001b[38;5;28;43;01mNone\u001b[39;49;00m\u001b[43m \u001b[49m\u001b[38;5;28;43;01melse\u001b[39;49;00m\u001b[43m \u001b[49m\u001b[43m{\u001b[49m\u001b[43m}\u001b[49m\u001b[43m)\u001b[49m\u001b[43m,\u001b[49m\u001b[43m \u001b[49m\u001b[38;5;241;43m*\u001b[39;49m\u001b[38;5;241;43m*\u001b[39;49m\u001b[43mkwargs\u001b[49m\u001b[43m)\u001b[49m\n\u001b[1;32m   2840\u001b[0m     sci(__ret)\n\u001b[1;32m   2841\u001b[0m     \u001b[38;5;28;01mreturn\u001b[39;00m __ret\n",
      "File \u001b[0;32m~/anaconda3/lib/python3.10/site-packages/matplotlib/__init__.py:1442\u001b[0m, in \u001b[0;36m_preprocess_data.<locals>.inner\u001b[0;34m(ax, data, *args, **kwargs)\u001b[0m\n\u001b[1;32m   1439\u001b[0m \u001b[38;5;129m@functools\u001b[39m\u001b[38;5;241m.\u001b[39mwraps(func)\n\u001b[1;32m   1440\u001b[0m \u001b[38;5;28;01mdef\u001b[39;00m \u001b[38;5;21minner\u001b[39m(ax, \u001b[38;5;241m*\u001b[39margs, data\u001b[38;5;241m=\u001b[39m\u001b[38;5;28;01mNone\u001b[39;00m, \u001b[38;5;241m*\u001b[39m\u001b[38;5;241m*\u001b[39mkwargs):\n\u001b[1;32m   1441\u001b[0m     \u001b[38;5;28;01mif\u001b[39;00m data \u001b[38;5;129;01mis\u001b[39;00m \u001b[38;5;28;01mNone\u001b[39;00m:\n\u001b[0;32m-> 1442\u001b[0m         \u001b[38;5;28;01mreturn\u001b[39;00m \u001b[43mfunc\u001b[49m\u001b[43m(\u001b[49m\u001b[43max\u001b[49m\u001b[43m,\u001b[49m\u001b[43m \u001b[49m\u001b[38;5;241;43m*\u001b[39;49m\u001b[38;5;28;43mmap\u001b[39;49m\u001b[43m(\u001b[49m\u001b[43msanitize_sequence\u001b[49m\u001b[43m,\u001b[49m\u001b[43m \u001b[49m\u001b[43margs\u001b[49m\u001b[43m)\u001b[49m\u001b[43m,\u001b[49m\u001b[43m \u001b[49m\u001b[38;5;241;43m*\u001b[39;49m\u001b[38;5;241;43m*\u001b[39;49m\u001b[43mkwargs\u001b[49m\u001b[43m)\u001b[49m\n\u001b[1;32m   1444\u001b[0m     bound \u001b[38;5;241m=\u001b[39m new_sig\u001b[38;5;241m.\u001b[39mbind(ax, \u001b[38;5;241m*\u001b[39margs, \u001b[38;5;241m*\u001b[39m\u001b[38;5;241m*\u001b[39mkwargs)\n\u001b[1;32m   1445\u001b[0m     auto_label \u001b[38;5;241m=\u001b[39m (bound\u001b[38;5;241m.\u001b[39marguments\u001b[38;5;241m.\u001b[39mget(label_namer)\n\u001b[1;32m   1446\u001b[0m                   \u001b[38;5;129;01mor\u001b[39;00m bound\u001b[38;5;241m.\u001b[39mkwargs\u001b[38;5;241m.\u001b[39mget(label_namer))\n",
      "File \u001b[0;32m~/anaconda3/lib/python3.10/site-packages/matplotlib/axes/_axes.py:4584\u001b[0m, in \u001b[0;36mAxes.scatter\u001b[0;34m(self, x, y, s, c, marker, cmap, norm, vmin, vmax, alpha, linewidths, edgecolors, plotnonfinite, **kwargs)\u001b[0m\n\u001b[1;32m   4582\u001b[0m y \u001b[38;5;241m=\u001b[39m np\u001b[38;5;241m.\u001b[39mma\u001b[38;5;241m.\u001b[39mravel(y)\n\u001b[1;32m   4583\u001b[0m \u001b[38;5;28;01mif\u001b[39;00m x\u001b[38;5;241m.\u001b[39msize \u001b[38;5;241m!=\u001b[39m y\u001b[38;5;241m.\u001b[39msize:\n\u001b[0;32m-> 4584\u001b[0m     \u001b[38;5;28;01mraise\u001b[39;00m \u001b[38;5;167;01mValueError\u001b[39;00m(\u001b[38;5;124m\"\u001b[39m\u001b[38;5;124mx and y must be the same size\u001b[39m\u001b[38;5;124m\"\u001b[39m)\n\u001b[1;32m   4586\u001b[0m \u001b[38;5;28;01mif\u001b[39;00m s \u001b[38;5;129;01mis\u001b[39;00m \u001b[38;5;28;01mNone\u001b[39;00m:\n\u001b[1;32m   4587\u001b[0m     s \u001b[38;5;241m=\u001b[39m (\u001b[38;5;241m20\u001b[39m \u001b[38;5;28;01mif\u001b[39;00m mpl\u001b[38;5;241m.\u001b[39mrcParams[\u001b[38;5;124m'\u001b[39m\u001b[38;5;124m_internal.classic_mode\u001b[39m\u001b[38;5;124m'\u001b[39m] \u001b[38;5;28;01melse\u001b[39;00m\n\u001b[1;32m   4588\u001b[0m          mpl\u001b[38;5;241m.\u001b[39mrcParams[\u001b[38;5;124m'\u001b[39m\u001b[38;5;124mlines.markersize\u001b[39m\u001b[38;5;124m'\u001b[39m] \u001b[38;5;241m*\u001b[39m\u001b[38;5;241m*\u001b[39m \u001b[38;5;241m2.0\u001b[39m)\n",
      "\u001b[0;31mValueError\u001b[0m: x and y must be the same size"
     ]
    },
    {
     "data": {
      "image/png": "[encoded data removed]",
      "text/plain": [
       "<Figure size 640x480 with 1 Axes>"
      ]
     },
     "metadata": {},
     "output_type": "display_data"
    }
   ],
   "source": [
    "# Maak van de x-as 2 getallen in plaats van 3 getallen\n",
    "inflation2020[\"Value\"] = inflation2020[\"Value\"] - 100\n",
    "inflation2022[\"Value\"] = inflation2022[\"Value\"] - 100\n",
    "\n",
    "# Plot de punten in de grafiek\n",
    "plt.scatter(inflation2020[\"Value\"], happiness_2020[\"Happiness score\"], label=\"2020\")\n",
    "plt.scatter(inflation2022[\"Value\"], happiness_2022[\"Happiness score\"], label=\"2022\")\n",
    "\n",
    "# Geef labels aan de assen\n",
    "plt.xlabel('Increase in inflation compared to 2015 (%)')\n",
    "plt.ylabel('Happiness Score')\n",
    "\n",
    "# Voeg labels toe aan de punten\n",
    "for x, y, label in zip(inflation2020[\"Value\"], happiness_2020[\"Happiness score\"], inflation2020[\"LOCATION\"]):\n",
    "    plt.text(x, y, label, ha='center', va='bottom')\n",
    "for x, y, label in zip(inflation2022[\"Value\"], happiness_2022[\"Happiness score\"], inflation2022[\"LOCATION\"]):\n",
    "    plt.text(x, y, label, ha='center', va='bottom')\n",
    "\n",
    "# Trek lijnen tussen de punten voor overzicht\n",
    "plt.plot([inflation2020[\"Value\"], inflation2022[\"Value\"]], [happiness_2020[\"Happiness score\"], happiness_20222[\"Happiness score\"]], 'k-')\n",
    "plt.title(\"Happiness and inflation in countries\")\n",
    "\n",
    "#\n",
    "plt.legend()\n",
    "\n",
    "# Toon de grafiek\n",
    "plt.show()"
   ]
  },
  {
   "cell_type": "code",
   "execution_count": null,
   "id": "cc3199e6",
   "metadata": {},
   "outputs": [],
   "source": []
  },
  {
   "cell_type": "code",
   "execution_count": null,
   "id": "109abcbe",
   "metadata": {},
   "outputs": [],
   "source": []
  }
 ],
 "metadata": {
  "kernelspec": {
   "display_name": "Python 3 (ipykernel)",
   "language": "python",
   "name": "python3"
  },
  "language_info": {
   "codemirror_mode": {
    "name": "ipython",
    "version": 3
   },
   "file_extension": ".py",
   "mimetype": "text/x-python",
   "name": "python",
   "nbconvert_exporter": "python",
   "pygments_lexer": "ipython3",
   "version": "3.10.9"
  }
 },
 "nbformat": 4,
 "nbformat_minor": 5
}
